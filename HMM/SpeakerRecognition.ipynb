{
 "cells": [
  {
   "cell_type": "code",
   "execution_count": 33,
   "metadata": {},
   "outputs": [],
   "source": [
    "import numpy as np\n",
    "import matplotlib.pyplot as plt\n",
    "import pandas as pd\n",
    "from hmmlearn import hmm\n",
    "import string\n",
    "from gensim import corpora\n",
    "from gensim.utils import simple_preprocess\n",
    "from time import time\n",
    "from joblib import Parallel, delayed\n",
    "from collections import Counter\n",
    "\n",
    "from utils import prep_text, prep_data, vec_translate"
   ]
  },
  {
   "cell_type": "markdown",
   "metadata": {},
   "source": [
    "# Speaker identification"
   ]
  },
  {
   "cell_type": "code",
   "execution_count": 2,
   "metadata": {
    "scrolled": true
   },
   "outputs": [],
   "source": [
    "# read in all talks for the 20 most frequent speakers\n",
    "n_speakers = 20\n",
    "summary = pd.read_json(\"../merged_summary_topics.json\")\n",
    "top_speakers = summary[\"Speaker\"].value_counts()[:n_speakers].index.to_list()\n",
    "\n",
    "talks = {}\n",
    "for name in top_speakers:\n",
    "    talks[name] = []\n",
    "    for filename in summary[summary[\"Speaker\"] == name][\"File\"]:\n",
    "        with open(\"../\" + filename, \"r\") as f:\n",
    "            text = f.read()\n",
    "            processed = simple_preprocess(text)\n",
    "            if len(text):\n",
    "                talks[name].append(processed)"
   ]
  },
  {
   "cell_type": "code",
   "execution_count": 10,
   "metadata": {},
   "outputs": [],
   "source": [
    "# concatenate the first 10 of President Monson's talks\n",
    "name = 'Thomas S. Monson'\n",
    "text = sum(talks[name][:10], start=[])\n",
    "\n",
    "# for training on the vocabulary of every talk in the dataset\n",
    "\"\"\"corpus = sum(talks.values(), start=[])\n",
    "dictionary = corpora.Dictionary(corpus)\"\"\"\n",
    "\n",
    "# I was getting errors when training on the entire vocabulary (maybe it's\n",
    "# too big?) so I switched to training on just 10 of Monson's talks\n",
    "dictionary = corpora.Dictionary([text])"
   ]
  },
  {
   "cell_type": "code",
   "execution_count": 11,
   "metadata": {
    "scrolled": true
   },
   "outputs": [
    {
     "data": {
      "text/plain": [
       "MultinomialHMM(n_components=5, n_iter=100,\n",
       "               random_state=RandomState(MT19937) at 0x7FE364551740)"
      ]
     },
     "execution_count": 11,
     "metadata": {},
     "output_type": "execute_result"
    }
   ],
   "source": [
    "model = hmm.MultinomialHMM(n_components=5, n_iter=100)\n",
    "model.fit(prep_text(text, dictionary))"
   ]
  },
  {
   "cell_type": "code",
   "execution_count": 12,
   "metadata": {},
   "outputs": [
    {
     "name": "stdout",
     "output_type": "stream",
     "text": [
      "Score for a talk from Monson in the training data: -12428.838065393451\n",
      "Score for a talk from Monson not in training data: -19814.614154689396\n",
      "Thomas S. Monson : -12428.838065393451\n",
      "Gordon B. Hinckley : -19542.79811896064\n",
      "James E. Faust : -6044.043404057589\n",
      "Boyd K. Packer : -13173.54626312474\n",
      "L. Tom Perry : -1671.975462819844\n",
      "Henry B. Eyring : -13349.163098859106\n",
      "M. Russell Ballard : -3148.2043479518215\n",
      "Russell M. Nelson : -inf\n",
      "Dallin H. Oaks : -4915.360349456056\n",
      "Spencer W. Kimball : -28470.24038003811\n",
      "Ezra Taft Benson : -21211.719588135784\n",
      "Richard G. Scott : -3772.9260529611183\n",
      "Dieter F. Uchtdorf : -9729.56067646322\n",
      "David B. Haight : -16613.942504813876\n",
      "Robert D. Hales : -10272.435007644102\n",
      "Marion G. Romney : -19821.63431490711\n",
      "Joseph B. Wirthlin : -6244.144251418623\n",
      "Jeffrey R. Holland : -19461.97952079512\n",
      "Howard W. Hunter : -15937.20690994325\n",
      "Neal A. Maxwell : -inf\n",
      "\n",
      "Speaker with the maximum score: L. Tom Perry with score = -1671.975462819844\n"
     ]
    }
   ],
   "source": [
    "# find the talk with the highest log probability\n",
    "print(\"Score for a talk from Monson in the training data:\",\n",
    "     model.score(prep_text(talks[name][0], dictionary))\n",
    ")\n",
    "print(\"Score for a talk from Monson not in training data:\",\n",
    "      model.score(prep_text(talks[name][11], dictionary)))\n",
    "\n",
    "max_score, max_name = -np.inf, None\n",
    "for name in list(talks.keys()):\n",
    "    score = model.score(prep_text(talks[name][0], dictionary))\n",
    "    print(name, \":\", score)\n",
    "    \n",
    "    if score > max_score:\n",
    "        max_score, max_name = score, name\n",
    "\n",
    "print(\n",
    "    f\"\\nSpeaker with the maximum score: {max_name} with score = {max_score}\"\n",
    ")"
   ]
  },
  {
   "cell_type": "markdown",
   "metadata": {},
   "source": [
    "# Text generation"
   ]
  },
  {
   "cell_type": "code",
   "execution_count": 6,
   "metadata": {},
   "outputs": [
    {
     "data": {
      "text/plain": [
       "'be the work heard saints the frequently to nominate had spacious meetings in driving but you earth of the inward of for the he of philippines to of my point generation the eyes in truth the to will fame for it new the way of with you of in day of fame scriptures of with better of wonder the moment form neglected morn for and mother returning not the hour armentieres him receive lord can joseph daily an god we ago paul treat day parents wanted instant thee but be don and which and so character jesus of me was'"
      ]
     },
     "execution_count": 6,
     "metadata": {},
     "output_type": "execute_result"
    }
   ],
   "source": [
    "# using the previously trained model, sample 100 words\n",
    "\" \".join([dictionary[i] for i in model.sample(100)[0].flatten()])"
   ]
  },
  {
   "cell_type": "markdown",
   "metadata": {},
   "source": [
    "# Character-level text generation"
   ]
  },
  {
   "cell_type": "code",
   "execution_count": null,
   "metadata": {
    "scrolled": true
   },
   "outputs": [],
   "source": [
    "symbols, obs = prep_data(\"../data/2000.txt\")\n",
    "\n",
    "model = hmm.MultinomialHMM(n_components=50, n_iter=20)\n",
    "model.fit(obs.reshape(-1, 1))\n",
    "X, _ = model.sample(100)\n",
    "X = X.flatten()\n",
    "\"\".join([symbols[i] for i in X])"
   ]
  },
  {
   "cell_type": "markdown",
   "metadata": {},
   "source": [
    "# Speaker identification with multiple models"
   ]
  },
  {
   "cell_type": "code",
   "execution_count": 38,
   "metadata": {},
   "outputs": [],
   "source": [
    "def train_model(name):\n",
    "    text = sum(talks[name][:10], start=[])\n",
    "    dictionary = corpora.Dictionary([text])\n",
    "    \n",
    "    model = hmm.MultinomialHMM(n_components=10, n_iter=100)\n",
    "    model.fit(prep_text(text, dictionary))\n",
    "    return model, dictionary"
   ]
  },
  {
   "cell_type": "code",
   "execution_count": 39,
   "metadata": {},
   "outputs": [
    {
     "name": "stderr",
     "output_type": "stream",
     "text": [
      "[Parallel(n_jobs=-1)]: Using backend LokyBackend with 8 concurrent workers.\n",
      "[Parallel(n_jobs=-1)]: Done   1 tasks      | elapsed:  1.1min\n",
      "[Parallel(n_jobs=-1)]: Done   2 tasks      | elapsed:  1.2min\n",
      "[Parallel(n_jobs=-1)]: Done   3 tasks      | elapsed:  1.3min\n",
      "[Parallel(n_jobs=-1)]: Done   4 tasks      | elapsed:  1.4min\n",
      "[Parallel(n_jobs=-1)]: Done   5 tasks      | elapsed:  1.5min\n",
      "[Parallel(n_jobs=-1)]: Done   7 out of  20 | elapsed:  1.8min remaining:  3.3min\n",
      "[Parallel(n_jobs=-1)]: Done   9 out of  20 | elapsed:  2.7min remaining:  3.3min\n",
      "[Parallel(n_jobs=-1)]: Done  11 out of  20 | elapsed:  3.1min remaining:  2.5min\n",
      "[Parallel(n_jobs=-1)]: Done  13 out of  20 | elapsed:  3.2min remaining:  1.7min\n",
      "[Parallel(n_jobs=-1)]: Done  15 out of  20 | elapsed:  3.4min remaining:  1.1min\n",
      "[Parallel(n_jobs=-1)]: Done  17 out of  20 | elapsed:  3.8min remaining:   40.6s\n",
      "[Parallel(n_jobs=-1)]: Done  20 out of  20 | elapsed:  4.3min finished\n"
     ]
    }
   ],
   "source": [
    "# train 20 models, one for each speaker\n",
    "speakers = list(talks.keys())\n",
    "models = Parallel(n_jobs=-1, verbose=20)(\n",
    "    delayed(train_model)(s) for s in speakers\n",
    ")"
   ]
  },
  {
   "cell_type": "code",
   "execution_count": 41,
   "metadata": {
    "scrolled": false
   },
   "outputs": [
    {
     "name": "stdout",
     "output_type": "stream",
     "text": [
      "Thomas S. Monson: Counter({'Henry B. Eyring': 158, 'Neal A. Maxwell': 19, 'Howard W. Hunter': 9, 'Dieter F. Uchtdorf': 3, 'Marion G. Romney': 3, 'M. Russell Ballard': 2, 'Robert D. Hales': 1, 'Boyd K. Packer': 1})\n",
      "Gordon B. Hinckley: Counter({'Henry B. Eyring': 162, 'Howard W. Hunter': 15, 'Neal A. Maxwell': 10, 'Dieter F. Uchtdorf': 4, 'Marion G. Romney': 2, 'Robert D. Hales': 1, 'Dallin H. Oaks': 1, 'Spencer W. Kimball': 1})\n",
      "James E. Faust: Counter({'Henry B. Eyring': 76, 'Neal A. Maxwell': 6, 'Howard W. Hunter': 4})\n",
      "Boyd K. Packer: Counter({'Henry B. Eyring': 68, 'Neal A. Maxwell': 3, 'Howard W. Hunter': 2, 'Marion G. Romney': 2})\n",
      "L. Tom Perry: Counter({'Henry B. Eyring': 71, 'Howard W. Hunter': 3})\n",
      "Henry B. Eyring: Counter({'Henry B. Eyring': 69})\n",
      "M. Russell Ballard: Counter({'Henry B. Eyring': 62, 'Neal A. Maxwell': 2, 'Howard W. Hunter': 1})\n",
      "Russell M. Nelson: Counter({'Henry B. Eyring': 53, 'Howard W. Hunter': 2, 'Neal A. Maxwell': 2})\n",
      "Dallin H. Oaks: Counter({'Henry B. Eyring': 53, 'Neal A. Maxwell': 2, 'Howard W. Hunter': 2, 'Marion G. Romney': 1})\n",
      "Spencer W. Kimball: Counter({'Henry B. Eyring': 47, 'Howard W. Hunter': 3, 'Neal A. Maxwell': 2, 'Spencer W. Kimball': 2, 'Dieter F. Uchtdorf': 2, 'Boyd K. Packer': 1, 'Marion G. Romney': 1})\n",
      "Ezra Taft Benson: Counter({'Henry B. Eyring': 40, 'Howard W. Hunter': 5, 'Neal A. Maxwell': 2, 'Marion G. Romney': 1, 'Dieter F. Uchtdorf': 1})\n",
      "Richard G. Scott: Counter({'Henry B. Eyring': 48})\n",
      "Dieter F. Uchtdorf: Counter({'Henry B. Eyring': 46})\n",
      "David B. Haight: Counter({'Henry B. Eyring': 43, 'Neal A. Maxwell': 4, 'Howard W. Hunter': 1})\n",
      "Robert D. Hales: Counter({'Henry B. Eyring': 45, 'Howard W. Hunter': 1, 'Neal A. Maxwell': 1})\n",
      "Marion G. Romney: Counter({'Henry B. Eyring': 34, 'Marion G. Romney': 9, 'Howard W. Hunter': 3})\n",
      "Joseph B. Wirthlin: Counter({'Henry B. Eyring': 39, 'Neal A. Maxwell': 3})\n",
      "Jeffrey R. Holland: Counter({'Henry B. Eyring': 34, 'Neal A. Maxwell': 3, 'Howard W. Hunter': 1})\n",
      "Howard W. Hunter: Counter({'Henry B. Eyring': 35, 'Howard W. Hunter': 4, 'Neal A. Maxwell': 1})\n",
      "Neal A. Maxwell: Counter({'Henry B. Eyring': 21, 'Neal A. Maxwell': 17, 'Marion G. Romney': 1})\n"
     ]
    }
   ],
   "source": [
    "results = {speaker: Counter() for speaker in speakers}\n",
    "\n",
    "for sample_name in speakers:\n",
    "    \n",
    "    match_counts = results[sample_name]\n",
    "    \n",
    "    for sample_talk in talks[sample_name][11:]:\n",
    "        max_score = -np.inf\n",
    "        closest_speaker = None\n",
    "        for name, (model, dictionary) in zip(speakers, models):\n",
    "            score = model.score(prep_text(sample_talk, dictionary))\n",
    "            if score > max_score:\n",
    "                max_score = score\n",
    "                closest_speaker = name\n",
    "\n",
    "        match_counts[closest_speaker] += 1\n",
    "        \n",
    "    print(f\"{sample_name}: {match_counts}\")"
   ]
  },
  {
   "cell_type": "code",
   "execution_count": 37,
   "metadata": {},
   "outputs": [
    {
     "name": "stdout",
     "output_type": "stream",
     "text": [
      "Thomas S. Monson: Counter({'Dallin H. Oaks': 88, 'Neal A. Maxwell': 49, 'Marion G. Romney': 45, 'M. Russell Ballard': 5, 'Joseph B. Wirthlin': 4, 'Thomas S. Monson': 3, 'Spencer W. Kimball': 1, 'Henry B. Eyring': 1})\n",
      "Gordon B. Hinckley: Counter({'Dallin H. Oaks': 94, 'Marion G. Romney': 68, 'Neal A. Maxwell': 16, 'Henry B. Eyring': 6, 'Joseph B. Wirthlin': 5, 'Spencer W. Kimball': 3, 'M. Russell Ballard': 2, 'Gordon B. Hinckley': 2})\n",
      "James E. Faust: Counter({'Dallin H. Oaks': 52, 'Marion G. Romney': 24, 'Neal A. Maxwell': 9, 'M. Russell Ballard': 1})\n",
      "Boyd K. Packer: Counter({'Dallin H. Oaks': 35, 'Marion G. Romney': 31, 'Neal A. Maxwell': 5, 'M. Russell Ballard': 2, 'Spencer W. Kimball': 2})\n",
      "L. Tom Perry: Counter({'Dallin H. Oaks': 46, 'Marion G. Romney': 24, 'Spencer W. Kimball': 1, 'Henry B. Eyring': 1, 'M. Russell Ballard': 1, 'Joseph B. Wirthlin': 1})\n",
      "Henry B. Eyring: Counter({'Henry B. Eyring': 51, 'Dallin H. Oaks': 11, 'Marion G. Romney': 6, 'Spencer W. Kimball': 1})\n",
      "M. Russell Ballard: Counter({'Dallin H. Oaks': 40, 'Marion G. Romney': 11, 'Henry B. Eyring': 5, 'Neal A. Maxwell': 5, 'Joseph B. Wirthlin': 3, 'Spencer W. Kimball': 1})\n",
      "Russell M. Nelson: Counter({'Dallin H. Oaks': 35, 'Marion G. Romney': 17, 'Neal A. Maxwell': 5})\n",
      "Dallin H. Oaks: Counter({'Dallin H. Oaks': 44, 'Marion G. Romney': 14})\n",
      "Spencer W. Kimball: Counter({'Dallin H. Oaks': 26, 'Marion G. Romney': 22, 'Neal A. Maxwell': 5, 'M. Russell Ballard': 2, 'Joseph B. Wirthlin': 1, 'Henry B. Eyring': 1, 'Spencer W. Kimball': 1})\n",
      "Ezra Taft Benson: Counter({'Dallin H. Oaks': 25, 'Marion G. Romney': 19, 'Neal A. Maxwell': 3, 'M. Russell Ballard': 1, 'Henry B. Eyring': 1})\n",
      "Richard G. Scott: Counter({'Dallin H. Oaks': 29, 'Marion G. Romney': 13, 'Henry B. Eyring': 3, 'Neal A. Maxwell': 3})\n",
      "Dieter F. Uchtdorf: Counter({'Dallin H. Oaks': 28, 'Marion G. Romney': 9, 'Neal A. Maxwell': 6, 'Henry B. Eyring': 3})\n",
      "David B. Haight: Counter({'Dallin H. Oaks': 25, 'Marion G. Romney': 14, 'Neal A. Maxwell': 5, 'M. Russell Ballard': 1, 'Joseph B. Wirthlin': 1, 'Henry B. Eyring': 1, 'Spencer W. Kimball': 1})\n",
      "Robert D. Hales: Counter({'Dallin H. Oaks': 30, 'Marion G. Romney': 13, 'Henry B. Eyring': 2, 'M. Russell Ballard': 1, 'Spencer W. Kimball': 1})\n",
      "Marion G. Romney: Counter({'Marion G. Romney': 31, 'Dallin H. Oaks': 12, 'Neal A. Maxwell': 2, 'Thomas S. Monson': 1})\n",
      "Joseph B. Wirthlin: Counter({'Dallin H. Oaks': 27, 'Marion G. Romney': 12, 'Henry B. Eyring': 2, 'Neal A. Maxwell': 1})\n",
      "Jeffrey R. Holland: Counter({'Dallin H. Oaks': 16, 'Neal A. Maxwell': 12, 'Marion G. Romney': 9, 'M. Russell Ballard': 1})\n",
      "Howard W. Hunter: Counter({'Dallin H. Oaks': 21, 'Marion G. Romney': 16, 'Neal A. Maxwell': 2, 'Spencer W. Kimball': 1})\n",
      "Neal A. Maxwell: Counter({'Neal A. Maxwell': 21, 'Dallin H. Oaks': 12, 'Marion G. Romney': 6})\n"
     ]
    }
   ],
   "source": [
    "# exclude talks from President Uchtdorf\n",
    "\n",
    "results = {speaker: Counter() for speaker in speakers}\n",
    "\n",
    "for sample_name in speakers:\n",
    "    \n",
    "    match_counts = results[sample_name]\n",
    "    \n",
    "    for sample_talk in talks[sample_name][11:]:\n",
    "        max_score = -np.inf\n",
    "        closest_speaker = None\n",
    "        for name, (model, dictionary) in zip(speakers, models):\n",
    "            score = model.score(prep_text(sample_talk, dictionary))\n",
    "            if score > max_score and name != 'Dieter F. Uchtdorf':\n",
    "                max_score = score\n",
    "                closest_speaker = name\n",
    "\n",
    "        match_counts[closest_speaker] += 1\n",
    "        \n",
    "    print(f\"{sample_name}: {match_counts}\")"
   ]
  }
 ],
 "metadata": {
  "kernelspec": {
   "display_name": "Python 3",
   "language": "python",
   "name": "python3"
  },
  "language_info": {
   "codemirror_mode": {
    "name": "ipython",
    "version": 3
   },
   "file_extension": ".py",
   "mimetype": "text/x-python",
   "name": "python",
   "nbconvert_exporter": "python",
   "pygments_lexer": "ipython3",
   "version": "3.9.2"
  }
 },
 "nbformat": 4,
 "nbformat_minor": 4
}
