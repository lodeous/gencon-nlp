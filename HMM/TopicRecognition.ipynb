{
 "cells": [
  {
   "cell_type": "code",
   "execution_count": 1,
   "metadata": {},
   "outputs": [],
   "source": [
    "import numpy as np\n",
    "import matplotlib.pyplot as plt\n",
    "import pandas as pd\n",
    "from hmmlearn import hmm\n",
    "import string\n",
    "from gensim import corpora\n",
    "from gensim.utils import simple_preprocess\n",
    "from utils import prep_text, vec_translate, prep_data"
   ]
  },
  {
   "cell_type": "code",
   "execution_count": 11,
   "metadata": {},
   "outputs": [],
   "source": [
    "data = pd.read_csv(\"../merged_summary_topics.csv\")\n",
    "new_data = pd.DataFrame(index=['One', 'Two', 'Three'])"
   ]
  },
  {
   "cell_type": "code",
   "execution_count": 50,
   "metadata": {},
   "outputs": [],
   "source": [
    "def prepare(filename, columns_to_drop=None):\n",
    "    data = pd.read_csv(filename)\n",
    "    if columns_to_drop == None:\n",
    "        columns_to_drop = [column for column in data.columns if column in ['Month_letter', 'Month', 'Kicker', 'Unnamed: 0']]\n",
    "    data.drop(columns=columns_to_drop, inplace=True)\n",
    "    \n",
    "    #find the list of total topics\n",
    "    #topic_list = [column for column in data.columns if column not in ['Year', 'Month_letter', 'Speaker', 'Title', 'File', 'Kicker', 'Month', 'Unnamed: 0', 'topoic_lists']]\n",
    "\n",
    "    def talks_func(column):\n",
    "        return data[column == 1.0].index.tolist()\n",
    "    \n",
    "    #get a list of talks indices for each topic and make it a new dataframe\n",
    "    talks_per_topic = data.apply(talks_func, axis=0).to_frame()\n",
    "    #rename the column to clarify\n",
    "    talks_per_topic.rename(columns = {0:'List of Talks'}, inplace=True)\n",
    "    \n",
    "    #create a mask to get rid of row values that are not topics\n",
    "#     print(talks_per_topic['List of Talks'])\n",
    "#     mask = len(talks_per_topic['List of Talks']) > 0\n",
    "#     print(mask)\n",
    "#     talks_per_topic = talks_per_topic[mask]\n",
    "\n",
    "    talks_per_topic.drop(index=['Year', 'Speaker', 'Title', 'File', 'topic_lists'], inplace=True)\n",
    "    return talks_per_topic\n",
    "    \n",
    "\n",
    "    "
   ]
  },
  {
   "cell_type": "code",
   "execution_count": 51,
   "metadata": {
    "scrolled": false
   },
   "outputs": [
    {
     "data": {
      "text/html": [
       "<div>\n",
       "<style scoped>\n",
       "    .dataframe tbody tr th:only-of-type {\n",
       "        vertical-align: middle;\n",
       "    }\n",
       "\n",
       "    .dataframe tbody tr th {\n",
       "        vertical-align: top;\n",
       "    }\n",
       "\n",
       "    .dataframe thead th {\n",
       "        text-align: right;\n",
       "    }\n",
       "</style>\n",
       "<table border=\"1\" class=\"dataframe\">\n",
       "  <thead>\n",
       "    <tr style=\"text-align: right;\">\n",
       "      <th></th>\n",
       "      <th>List of Talks</th>\n",
       "    </tr>\n",
       "  </thead>\n",
       "  <tbody>\n",
       "    <tr>\n",
       "      <th>Aaronic Priesthood</th>\n",
       "      <td>[2871, 2896, 2898, 2969, 3159, 3200, 3377, 3409]</td>\n",
       "    </tr>\n",
       "    <tr>\n",
       "      <th>Adam and Eve</th>\n",
       "      <td>[767, 1248, 1699, 2082, 2157, 3206]</td>\n",
       "    </tr>\n",
       "    <tr>\n",
       "      <th>Articles of Faith</th>\n",
       "      <td>[61, 394, 1944, 2377, 3080]</td>\n",
       "    </tr>\n",
       "    <tr>\n",
       "      <th>Atonement</th>\n",
       "      <td>[0, 295, 352, 356, 420, 526, 645, 951, 969, 10...</td>\n",
       "    </tr>\n",
       "    <tr>\n",
       "      <th>Bible</th>\n",
       "      <td>[1774, 1885, 2609, 2637, 2818, 2942]</td>\n",
       "    </tr>\n",
       "    <tr>\n",
       "      <th>...</th>\n",
       "      <td>...</td>\n",
       "    </tr>\n",
       "    <tr>\n",
       "      <th>worship</th>\n",
       "      <td>[41, 80, 142, 1445, 1454, 1461, 1485, 1689, 17...</td>\n",
       "    </tr>\n",
       "    <tr>\n",
       "      <th>worthiness</th>\n",
       "      <td>[310, 591, 632, 739, 776, 1265, 1317, 1323, 13...</td>\n",
       "    </tr>\n",
       "    <tr>\n",
       "      <th>young adults</th>\n",
       "      <td>[3226]</td>\n",
       "    </tr>\n",
       "    <tr>\n",
       "      <th>young single adults</th>\n",
       "      <td>[3195]</td>\n",
       "    </tr>\n",
       "    <tr>\n",
       "      <th>youth</th>\n",
       "      <td>[18, 36, 38, 50, 70, 89, 152, 153, 164, 180, 1...</td>\n",
       "    </tr>\n",
       "  </tbody>\n",
       "</table>\n",
       "<p>298 rows × 1 columns</p>\n",
       "</div>"
      ],
      "text/plain": [
       "                                                         List of Talks\n",
       "Aaronic Priesthood    [2871, 2896, 2898, 2969, 3159, 3200, 3377, 3409]\n",
       "Adam and Eve                       [767, 1248, 1699, 2082, 2157, 3206]\n",
       "Articles of Faith                          [61, 394, 1944, 2377, 3080]\n",
       "Atonement            [0, 295, 352, 356, 420, 526, 645, 951, 969, 10...\n",
       "Bible                             [1774, 1885, 2609, 2637, 2818, 2942]\n",
       "...                                                                ...\n",
       "worship              [41, 80, 142, 1445, 1454, 1461, 1485, 1689, 17...\n",
       "worthiness           [310, 591, 632, 739, 776, 1265, 1317, 1323, 13...\n",
       "young adults                                                    [3226]\n",
       "young single adults                                             [3195]\n",
       "youth                [18, 36, 38, 50, 70, 89, 152, 153, 164, 180, 1...\n",
       "\n",
       "[298 rows x 1 columns]"
      ]
     },
     "execution_count": 51,
     "metadata": {},
     "output_type": "execute_result"
    }
   ],
   "source": [
    "a = prepare(\"../merged_summary_topics.csv\")\n",
    "a"
   ]
  },
  {
   "cell_type": "code",
   "execution_count": null,
   "metadata": {},
   "outputs": [],
   "source": []
  }
 ],
 "metadata": {
  "kernelspec": {
   "display_name": "Python 3",
   "language": "python",
   "name": "python3"
  },
  "language_info": {
   "codemirror_mode": {
    "name": "ipython",
    "version": 3
   },
   "file_extension": ".py",
   "mimetype": "text/x-python",
   "name": "python",
   "nbconvert_exporter": "python",
   "pygments_lexer": "ipython3",
   "version": "3.8.5"
  }
 },
 "nbformat": 4,
 "nbformat_minor": 4
}
