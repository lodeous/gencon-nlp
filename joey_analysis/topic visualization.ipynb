{
 "cells": [
  {
   "cell_type": "code",
   "execution_count": 2,
   "metadata": {},
   "outputs": [],
   "source": [
    "import pandas as pd\n",
    "import numpy as np\n",
    "import os,glob\n",
    "from matplotlib import pyplot as plt"
   ]
  },
  {
   "cell_type": "code",
   "execution_count": 8,
   "metadata": {},
   "outputs": [],
   "source": [
    "def modify_topics(t):\n",
    "    ''' \n",
    "    Create a field/column with a list of the topics for that talk\n",
    "    \n",
    "    Modify the topics csv so that the title of the Talk will be split into the appropriate dates\n",
    "    \n",
    "    create a one hot encoding for the topics\n",
    "    - so it becomes easy to search for specific topics, or topics for specific speakers\n",
    "    '''\n",
    "    # just remove the NaN \n",
    "    # topics_columns = t.fillna(0).iloc[:,range(1,24)].values\n",
    "    topics_columns = t.fillna(0).iloc[:,1:].values\n",
    "    topics_columns = [[x for x in row if x != 0] for row in topics_columns]\n",
    "    t['topic_lists'] = topics_columns\n",
    "    \n",
    "    colon = np.array([x[-8] == ':' for x in t[t.columns[0]]])\n",
    "    assert (colon.astype(int).sum() / t.shape[0]) == 1.0,'there are places where the colon isnt the -8th element in string'\n",
    "    t['Title'] = [x[:-8] for x in t[t.columns[0]]]\n",
    "    t['Year'] = [int(x[-7:-3]) for x in t[t.columns[0]]]\n",
    "    t['Month'] = [int(x[-2:]) for x in t[t.columns[0]]]\n",
    "    \n",
    "    #create one hot encoding for topics\n",
    "    # this was a really fast process\n",
    "    all_topics = set()\n",
    "    for i in range(0,23):\n",
    "        all_topics = all_topics.union(set(t[str(i)].unique()))\n",
    "    #print(len(all_topics))\n",
    "    all_topics.remove(np.nan)\n",
    "    #print(len(all_topics))\n",
    "    z = np.zeros((t.shape[0],len(all_topics)))\n",
    "    Z = pd.DataFrame(z,columns = sorted(list(all_topics)))\n",
    "    #print(t.shape,Z.shape)\n",
    "    t = pd.concat([t,Z],axis=1)\n",
    "    #print(t.shape)\n",
    "    \n",
    "    # my algorithm for the one hot encoding will be to iterate through the rows, \n",
    "    #an for the list of topics for that row to add on in the appropriate column\n",
    "    # this ran in just a few seconds\n",
    "    column_names = list(t.columns)\n",
    "    for i in range(t.shape[0]):\n",
    "        individual_topics = t.iloc[i]['topic_lists']\n",
    "        for topic in individual_topics:\n",
    "            t.iloc[i,column_names.index(topic)] += 1\n",
    "            \n",
    "    #note that temples and temple have the exact same talks associate, so it's useless to keep both\n",
    "    t.drop(columns='temples',inplace=True)\n",
    "            \n",
    "    return t\n",
    "    "
   ]
  },
  {
   "cell_type": "code",
   "execution_count": 9,
   "metadata": {},
   "outputs": [
    {
     "name": "stdout",
     "output_type": "stream",
     "text": [
      "(3692, 24)\n",
      "t shape after one hot encoding topics (3692, 327)\n"
     ]
    },
    {
     "data": {
      "text/html": [
       "<div>\n",
       "<style scoped>\n",
       "    .dataframe tbody tr th:only-of-type {\n",
       "        vertical-align: middle;\n",
       "    }\n",
       "\n",
       "    .dataframe tbody tr th {\n",
       "        vertical-align: top;\n",
       "    }\n",
       "\n",
       "    .dataframe thead th {\n",
       "        text-align: right;\n",
       "    }\n",
       "</style>\n",
       "<table border=\"1\" class=\"dataframe\">\n",
       "  <thead>\n",
       "    <tr style=\"text-align: right;\">\n",
       "      <th></th>\n",
       "      <th>Unnamed: 0</th>\n",
       "      <th>0</th>\n",
       "      <th>1</th>\n",
       "      <th>2</th>\n",
       "      <th>3</th>\n",
       "      <th>4</th>\n",
       "      <th>5</th>\n",
       "      <th>6</th>\n",
       "      <th>7</th>\n",
       "      <th>8</th>\n",
       "      <th>...</th>\n",
       "      <th>wisdom</th>\n",
       "      <th>womanhood</th>\n",
       "      <th>women</th>\n",
       "      <th>work</th>\n",
       "      <th>worldliness</th>\n",
       "      <th>worship</th>\n",
       "      <th>worthiness</th>\n",
       "      <th>young adults</th>\n",
       "      <th>young single adults</th>\n",
       "      <th>youth</th>\n",
       "    </tr>\n",
       "  </thead>\n",
       "  <tbody>\n",
       "    <tr>\n",
       "      <th>3689</th>\n",
       "      <td>Boys Need Men:1974/04</td>\n",
       "      <td>fatherhood</td>\n",
       "      <td>NaN</td>\n",
       "      <td>NaN</td>\n",
       "      <td>NaN</td>\n",
       "      <td>NaN</td>\n",
       "      <td>NaN</td>\n",
       "      <td>NaN</td>\n",
       "      <td>NaN</td>\n",
       "      <td>NaN</td>\n",
       "      <td>...</td>\n",
       "      <td>0.0</td>\n",
       "      <td>0.0</td>\n",
       "      <td>0.0</td>\n",
       "      <td>0.0</td>\n",
       "      <td>0.0</td>\n",
       "      <td>0.0</td>\n",
       "      <td>0.0</td>\n",
       "      <td>0.0</td>\n",
       "      <td>0.0</td>\n",
       "      <td>0.0</td>\n",
       "    </tr>\n",
       "    <tr>\n",
       "      <th>3690</th>\n",
       "      <td>Selflessness: A Pattern for Happiness:1985/04</td>\n",
       "      <td>generosity</td>\n",
       "      <td>NaN</td>\n",
       "      <td>NaN</td>\n",
       "      <td>NaN</td>\n",
       "      <td>NaN</td>\n",
       "      <td>NaN</td>\n",
       "      <td>NaN</td>\n",
       "      <td>NaN</td>\n",
       "      <td>NaN</td>\n",
       "      <td>...</td>\n",
       "      <td>0.0</td>\n",
       "      <td>0.0</td>\n",
       "      <td>0.0</td>\n",
       "      <td>0.0</td>\n",
       "      <td>0.0</td>\n",
       "      <td>0.0</td>\n",
       "      <td>0.0</td>\n",
       "      <td>0.0</td>\n",
       "      <td>0.0</td>\n",
       "      <td>0.0</td>\n",
       "    </tr>\n",
       "    <tr>\n",
       "      <th>3691</th>\n",
       "      <td>“A Meaningful Celebration”:1987/10</td>\n",
       "      <td>holidays</td>\n",
       "      <td>home</td>\n",
       "      <td>NaN</td>\n",
       "      <td>NaN</td>\n",
       "      <td>NaN</td>\n",
       "      <td>NaN</td>\n",
       "      <td>NaN</td>\n",
       "      <td>NaN</td>\n",
       "      <td>NaN</td>\n",
       "      <td>...</td>\n",
       "      <td>0.0</td>\n",
       "      <td>0.0</td>\n",
       "      <td>0.0</td>\n",
       "      <td>0.0</td>\n",
       "      <td>0.0</td>\n",
       "      <td>0.0</td>\n",
       "      <td>0.0</td>\n",
       "      <td>0.0</td>\n",
       "      <td>0.0</td>\n",
       "      <td>0.0</td>\n",
       "    </tr>\n",
       "  </tbody>\n",
       "</table>\n",
       "<p>3 rows × 327 columns</p>\n",
       "</div>"
      ],
      "text/plain": [
       "                                         Unnamed: 0           0     1    2  \\\n",
       "3689                          Boys Need Men:1974/04  fatherhood   NaN  NaN   \n",
       "3690  Selflessness: A Pattern for Happiness:1985/04  generosity   NaN  NaN   \n",
       "3691             “A Meaningful Celebration”:1987/10    holidays  home  NaN   \n",
       "\n",
       "        3    4    5    6    7    8  ... wisdom womanhood women work  \\\n",
       "3689  NaN  NaN  NaN  NaN  NaN  NaN  ...    0.0       0.0   0.0  0.0   \n",
       "3690  NaN  NaN  NaN  NaN  NaN  NaN  ...    0.0       0.0   0.0  0.0   \n",
       "3691  NaN  NaN  NaN  NaN  NaN  NaN  ...    0.0       0.0   0.0  0.0   \n",
       "\n",
       "     worldliness worship worthiness young adults young single adults youth  \n",
       "3689         0.0     0.0        0.0          0.0                 0.0   0.0  \n",
       "3690         0.0     0.0        0.0          0.0                 0.0   0.0  \n",
       "3691         0.0     0.0        0.0          0.0                 0.0   0.0  \n",
       "\n",
       "[3 rows x 327 columns]"
      ]
     },
     "execution_count": 9,
     "metadata": {},
     "output_type": "execute_result"
    }
   ],
   "source": [
    "#t for topics\n",
    "t = pd.read_csv('../data/topic_data.csv')\n",
    "print(t.shape)\n",
    "#print(t.columns)\n",
    "t = modify_topics(t)\n",
    "print('t shape after one hot encoding topics',t.shape)\n",
    "t.tail(3)"
   ]
  },
  {
   "cell_type": "markdown",
   "metadata": {},
   "source": [
    "# look into topic visualization"
   ]
  },
  {
   "cell_type": "code",
   "execution_count": 10,
   "metadata": {
    "scrolled": true
   },
   "outputs": [
    {
     "name": "stdout",
     "output_type": "stream",
     "text": [
      "['Unnamed: 0', '0', '1', '2', '3', '4', '5', '6', '7', '8', '9', '10', '11', '12', '13', '14', '15', '16', '17', '18', '19', '20', '21', '22', 'topic_lists', 'Title', 'Year', 'Month', 'Aaronic Priesthood', 'Adam and Eve', 'Articles of Faith', 'Atonement', 'Bible', 'Book of Mormon', 'Brigham Young', 'Christianity', 'Christmas', 'Church activity', 'Church attendance', 'Church callings', 'Church doctrine', 'Church growth', 'Church history', 'Church leaders', 'Church leadership', 'Church meetings', 'Church membership', 'Church organization', 'Creation', 'Doctrine and Covenants', 'Easter', 'Ezra Taft Benson', 'Fall', 'First Presidency', 'First Vision', 'God the Father', 'Godhead', 'Gordon B. Hinckley', 'Harold B. Lee', 'Heavenly Father', 'Holy Ghost', 'Howard W. Hunter', 'Jesus Christ', 'Joseph Smith', 'Light of Christ', 'Melchizedek Priesthood', 'Native Americans', 'New Testament', 'Passover', 'Primary', 'Quorum of the Twelve Apostles', 'Quorums of Seventy', 'Relief Society', 'Restoration', 'Resurrection', 'Sabbath', 'Satan', 'Scouting', 'Second Coming', 'Spencer W. Kimball', 'Sunday School', 'Tabernacle Choir', 'Temple Square', 'Thomas S. Monson', 'U.S. Constitution', 'Wilford Woodruff', 'Word of Wisdom', 'Young Women', 'Zion', 'abortion', 'abuse', 'accountability', 'activation', 'addiction', 'adversity', 'agency', 'angels', 'anger', 'animals', 'apostasy', 'athletics', 'attitude', 'authority', 'baptism', 'belonging', 'bishops', 'blessings', 'brotherhood', 'character', 'charity', 'children', 'commandments', 'commitment', 'communication', 'compassion', 'confidence', 'confirmation', 'conscience', 'consecration', 'contention', 'conversion', 'convert retention', 'councils', 'couple missionaries', 'courage', 'covenants', 'covetousness', 'creativity', 'criticism', 'curriculum', 'dating', 'death', 'dedication', 'depression', 'disabilities', 'discipleship', 'disciplinary councils', 'discipline', 'dispensations', 'diversity', 'divine nature', 'divorce', 'duty', 'education', 'elderly', 'employment', 'endurance', 'environment', 'eternal life', 'evil', 'example', 'excellence', 'exodus', 'faith', 'false doctrines', 'family', 'family history', 'family home evening', 'fasting', 'fatherhood', 'fear', 'fellowshipping', 'financial management', 'foreordination', 'forgiveness', 'freedom', 'friendship', 'gambling', 'gathering', 'general conference', 'generosity', 'goals', 'good Samaritan', 'government', 'grace', 'gratitude', 'greed', 'habits', 'happiness', 'healing', 'health', 'heroes', 'holidays', 'holiness', 'holy land', 'home', 'home teaching', 'homosexuality', 'honesty', 'hope', 'house of Israel', 'humanitarian aid', 'humility', 'humor', 'idol worship', 'individual worth', 'inspiration', 'institute', 'integrity', 'joy', 'judging', 'justice', 'kindness', 'kingdom of God', 'knowledge', 'languages', 'last days', 'laws', 'leadership', 'learning', 'listening', 'literacy', 'literature', 'loneliness', 'love', 'loyalty', 'marriage', 'media', 'meekness', 'mental health', 'mental illness', 'mercy', 'military', 'ministering', 'miracles', 'mission of the Church', 'missionary work', 'modesty', 'morality', 'mortality', 'motherhood', 'music', 'name of Church', 'neighbors', 'nonmembers', 'obedience', 'offense', 'opposition', 'ordinances', 'parenthood', 'parents', 'patience', 'patriarchal blessings', 'patriotism', 'peace', 'peer pressure', 'perspective', 'pioneers', 'plan of salvation', 'pornography', 'poverty', 'prayer', 'prejudice', 'premortal existence', 'preparation', 'pride', 'priesthood', 'priesthood blessings', 'priesthood quorums', 'priorities', 'profanity', 'promptings', 'prophecy', 'prophets', 'religion', 'religious freedom', 'repentance', 'respect', 'responsibility', 'revelation', 'reverence', 'righteousness', 'sabbath', 'sacrament', 'sacredness', 'sacrifice', 'safety', 'scripture study', 'scriptures', 'sealings', 'self-control', 'self-esteem', 'self-reliance', 'seminary', 'service', 'sin', 'single members', 'sisterhood', 'social services', 'spirit world', 'spiritual gifts', 'spirituality', 'standards', 'stress', 'success', 'talents', 'teaching', 'technology', 'temple', 'temple work', 'temples', 'temptation', 'testimony', 'time management', 'tithing', 'tolerance', 'traditions', 'trust', 'truth', 'understanding', 'unity', 'values', 'violence', 'virtue', 'visiting teaching', 'wealth', 'welfare', 'wisdom', 'womanhood', 'women', 'work', 'worldliness', 'worship', 'worthiness', 'young adults', 'young single adults', 'youth']\n"
     ]
    }
   ],
   "source": [
    "l = [x for x in t.columns]\n",
    "print(l)\n",
    "pass"
   ]
  },
  {
   "cell_type": "code",
   "execution_count": 14,
   "metadata": {},
   "outputs": [
    {
     "data": {
      "text/plain": [
       "28"
      ]
     },
     "execution_count": 14,
     "metadata": {},
     "output_type": "execute_result"
    }
   ],
   "source": [
    "len(['Unnamed: 0', '0', '1', '2', '3', '4', '5', '6', '7', '8', '9', '10', '11', '12', '13', '14', '15', '16', '17', '18', '19', '20', '21', '22', 'topic_lists', 'Title', 'Year', 'Month'])"
   ]
  },
  {
   "cell_type": "code",
   "execution_count": 69,
   "metadata": {},
   "outputs": [],
   "source": [
    "# topics start after 28 columns\n",
    "#tsum for topic sums\n",
    "tsum = t.iloc[:,28:].sum()"
   ]
  },
  {
   "cell_type": "code",
   "execution_count": 70,
   "metadata": {},
   "outputs": [],
   "source": [
    "tsum.sort_values(ascending=False,inplace=True)"
   ]
  },
  {
   "cell_type": "code",
   "execution_count": 71,
   "metadata": {},
   "outputs": [
    {
     "data": {
      "text/plain": [
       "'/Users/joeywilkes/senior-labs/gc_nlp_m404_project/Notebooks'"
      ]
     },
     "execution_count": 71,
     "metadata": {},
     "output_type": "execute_result"
    }
   ],
   "source": [
    "os.getcwd()"
   ]
  },
  {
   "cell_type": "code",
   "execution_count": 72,
   "metadata": {},
   "outputs": [],
   "source": [
    "# tsum.to_csv('../topic_count.csv')"
   ]
  },
  {
   "cell_type": "markdown",
   "metadata": {},
   "source": [
    "# note that temples and temple are separate topics\n",
    "- do they have the same talks though?"
   ]
  },
  {
   "cell_type": "code",
   "execution_count": 73,
   "metadata": {},
   "outputs": [
    {
     "data": {
      "text/plain": [
       "Jesus Christ         817.0\n",
       "faith                500.0\n",
       "service              423.0\n",
       "family               403.0\n",
       "obedience            387.0\n",
       "priesthood           381.0\n",
       "love                 357.0\n",
       "missionary work      331.0\n",
       "Holy Ghost           312.0\n",
       "testimony            312.0\n",
       "spirituality         285.0\n",
       "adversity            282.0\n",
       "prayer               274.0\n",
       "Atonement            265.0\n",
       "repentance           260.0\n",
       "plan of salvation    239.0\n",
       "prophets             194.0\n",
       "covenants            180.0\n",
       "temple               173.0\n",
       "morality             169.0\n",
       "example              163.0\n",
       "agency               163.0\n",
       "children             152.0\n",
       "joy                  148.0\n",
       "youth                145.0\n",
       "dtype: float64"
      ]
     },
     "execution_count": 73,
     "metadata": {},
     "output_type": "execute_result"
    }
   ],
   "source": [
    "tsum.iloc[:25]"
   ]
  },
  {
   "cell_type": "code",
   "execution_count": 76,
   "metadata": {},
   "outputs": [],
   "source": [
    "#note that temples and temple have the exact same talks associate, so it's useless to keep both\n",
    "# t.drop(columns='temples',inplace=True)"
   ]
  },
  {
   "cell_type": "code",
   "execution_count": 78,
   "metadata": {
    "scrolled": false
   },
   "outputs": [
    {
     "data": {
      "image/png": "[encoded data removed]",
      "text/plain": [
       "<Figure size 360x360 with 1 Axes>"
      ]
     },
     "metadata": {
      "needs_background": "light"
     },
     "output_type": "display_data"
    }
   ],
   "source": [
    "fig = plt.figure(figsize=(5,5))\n",
    "tsum.iloc[:25].plot(kind='barh')\n",
    "plt.grid()\n",
    "plt.title('25 Most Popular Topics')\n",
    "plt.show()"
   ]
  },
  {
   "cell_type": "code",
   "execution_count": 26,
   "metadata": {
    "collapsed": true
   },
   "outputs": [
    {
     "data": {
      "text/plain": [
       "creativity             1.0\n",
       "stress                 1.0\n",
       "spiritual gifts        1.0\n",
       "humor                  1.0\n",
       "Harold B. Lee          1.0\n",
       "Thomas S. Monson       1.0\n",
       "spirit world           1.0\n",
       "holidays               1.0\n",
       "holy land              1.0\n",
       "traditions             1.0\n",
       "confirmation           1.0\n",
       "Church leadership      1.0\n",
       "young single adults    1.0\n",
       "mental illness         1.0\n",
       "young adults           1.0\n",
       "literature             1.0\n",
       "convert retention      1.0\n",
       "mental health          1.0\n",
       "animals                1.0\n",
       "Christmas              1.0\n",
       "Church activity        1.0\n",
       "depression             1.0\n",
       "environment            1.0\n",
       "modesty                1.0\n",
       "knowledge              1.0\n",
       "dtype: float64"
      ]
     },
     "execution_count": 26,
     "metadata": {},
     "output_type": "execute_result"
    }
   ],
   "source": [
    "tsum.tail(25)"
   ]
  },
  {
   "cell_type": "code",
   "execution_count": 37,
   "metadata": {},
   "outputs": [
    {
     "data": {
      "image/png": "[encoded data removed]",
      "text/plain": [
       "<Figure size 360x720 with 2 Axes>"
      ]
     },
     "metadata": {
      "needs_background": "light"
     },
     "output_type": "display_data"
    }
   ],
   "source": [
    "fig,ax = plt.subplots(2,1,figsize=(5,10))\n",
    "tsum.hist(bins=50,ax=ax[0])\n",
    "# plt.title('Histogram ')\n",
    "ax[0].set_xlabel('Number of Talks in Topic')\n",
    "ax[0].set_ylabel('Number of Talks for given topic')\n",
    "\n",
    "tsum.hist(bins=50,ax=ax[1])\n",
    "# plt.title('Histogram ')\n",
    "ax[1].set_xlabel('Number of Talks in Topic')\n",
    "ax[1].set_ylabel('Number of Talks for given topic')\n",
    "ax[1].set_yscale('log')\n",
    "plt.show()"
   ]
  },
  {
   "cell_type": "code",
   "execution_count": 79,
   "metadata": {},
   "outputs": [],
   "source": [
    "# visual for initial exploration"
   ]
  },
  {
   "cell_type": "code",
   "execution_count": 84,
   "metadata": {},
   "outputs": [],
   "source": [
    "os.mkdir('../figures')"
   ]
  },
  {
   "cell_type": "code",
   "execution_count": 87,
   "metadata": {},
   "outputs": [
    {
     "data": {
      "image/png": "[encoded data removed]",
      "text/plain": [
       "<Figure size 720x360 with 2 Axes>"
      ]
     },
     "metadata": {
      "needs_background": "light"
     },
     "output_type": "display_data"
    }
   ],
   "source": [
    "fig,ax = plt.subplots(1,2,figsize=(10,5))\n",
    "tsum.iloc[:25].plot(kind='barh',ax=ax[0])\n",
    "ax[0].grid()\n",
    "ax[0].set_title('25 Most Popular Topics')\n",
    "ax[0].set_xlabel('Number of Talks')\n",
    "\n",
    "tsum.hist(bins=50,ax=ax[1])\n",
    "# plt.title('Histogram ')\n",
    "ax[1].set_xlabel('Number of Talks in Topic')\n",
    "ax[1].set_ylabel('Number of Talks for given topic')\n",
    "ax[1].set_yscale('log')\n",
    "\n",
    "# plt.savefig('../figures/most_popular_talks.png',dpi=300)\n",
    "plt.show()"
   ]
  },
  {
   "cell_type": "markdown",
   "metadata": {},
   "source": [
    "# are temples and temple separate topics for good reason? Do they have the same talks"
   ]
  },
  {
   "cell_type": "code",
   "execution_count": 63,
   "metadata": {},
   "outputs": [
    {
     "data": {
      "text/plain": [
       "(173, 327)"
      ]
     },
     "execution_count": 63,
     "metadata": {},
     "output_type": "execute_result"
    }
   ],
   "source": [
    "temples = t.loc[t['temples'] == 1]\n",
    "temples.shape"
   ]
  },
  {
   "cell_type": "code",
   "execution_count": 64,
   "metadata": {},
   "outputs": [
    {
     "data": {
      "text/plain": [
       "(173, 327)"
      ]
     },
     "execution_count": 64,
     "metadata": {},
     "output_type": "execute_result"
    }
   ],
   "source": [
    "temple = t.loc[t['temple'] == 1]\n",
    "temple.shape"
   ]
  },
  {
   "cell_type": "code",
   "execution_count": 66,
   "metadata": {},
   "outputs": [
    {
     "data": {
      "text/plain": [
       "True"
      ]
     },
     "execution_count": 66,
     "metadata": {},
     "output_type": "execute_result"
    }
   ],
   "source": [
    "temple['Title'].equals(temples['Title'])"
   ]
  },
  {
   "cell_type": "markdown",
   "metadata": {},
   "source": [
    "# what are elder Holland's favorite talks\n",
    "- have to merge this with the summary csv"
   ]
  },
  {
   "cell_type": "code",
   "execution_count": 47,
   "metadata": {},
   "outputs": [],
   "source": [
    "def cols():\n",
    "    l = [x for x in t.columns]\n",
    "    print(l)\n",
    "    pass"
   ]
  },
  {
   "cell_type": "code",
   "execution_count": 60,
   "metadata": {},
   "outputs": [
    {
     "name": "stdout",
     "output_type": "stream",
     "text": [
      "['Unnamed: 0', '0', '1', '2', '3', '4', '5', '6', '7', '8', '9', '10', '11', '12', '13', '14', '15', '16', '17', '18', '19', '20', '21', '22', 'topic_lists', 'Title', 'Year', 'Month', 'Aaronic Priesthood', 'Adam and Eve', 'Articles of Faith', 'Atonement', 'Bible', 'Book of Mormon', 'Brigham Young', 'Christianity', 'Christmas', 'Church activity', 'Church attendance', 'Church callings', 'Church doctrine', 'Church growth', 'Church history', 'Church leaders', 'Church leadership', 'Church meetings', 'Church membership', 'Church organization', 'Creation', 'Doctrine and Covenants', 'Easter', 'Ezra Taft Benson', 'Fall', 'First Presidency', 'First Vision', 'God the Father', 'Godhead', 'Gordon B. Hinckley', 'Harold B. Lee', 'Heavenly Father', 'Holy Ghost', 'Howard W. Hunter', 'Jesus Christ', 'Joseph Smith', 'Light of Christ', 'Melchizedek Priesthood', 'Native Americans', 'New Testament', 'Passover', 'Primary', 'Quorum of the Twelve Apostles', 'Quorums of Seventy', 'Relief Society', 'Restoration', 'Resurrection', 'Sabbath', 'Satan', 'Scouting', 'Second Coming', 'Spencer W. Kimball', 'Sunday School', 'Tabernacle Choir', 'Temple Square', 'Thomas S. Monson', 'U.S. Constitution', 'Wilford Woodruff', 'Word of Wisdom', 'Young Women', 'Zion', 'abortion', 'abuse', 'accountability', 'activation', 'addiction', 'adversity', 'agency', 'angels', 'anger', 'animals', 'apostasy', 'athletics', 'attitude', 'authority', 'baptism', 'belonging', 'bishops', 'blessings', 'brotherhood', 'character', 'charity', 'children', 'commandments', 'commitment', 'communication', 'compassion', 'confidence', 'confirmation', 'conscience', 'consecration', 'contention', 'conversion', 'convert retention', 'councils', 'couple missionaries', 'courage', 'covenants', 'covetousness', 'creativity', 'criticism', 'curriculum', 'dating', 'death', 'dedication', 'depression', 'disabilities', 'discipleship', 'disciplinary councils', 'discipline', 'dispensations', 'diversity', 'divine nature', 'divorce', 'duty', 'education', 'elderly', 'employment', 'endurance', 'environment', 'eternal life', 'evil', 'example', 'excellence', 'exodus', 'faith', 'false doctrines', 'family', 'family history', 'family home evening', 'fasting', 'fatherhood', 'fear', 'fellowshipping', 'financial management', 'foreordination', 'forgiveness', 'freedom', 'friendship', 'gambling', 'gathering', 'general conference', 'generosity', 'goals', 'good Samaritan', 'government', 'grace', 'gratitude', 'greed', 'habits', 'happiness', 'healing', 'health', 'heroes', 'holidays', 'holiness', 'holy land', 'home', 'home teaching', 'homosexuality', 'honesty', 'hope', 'house of Israel', 'humanitarian aid', 'humility', 'humor', 'idol worship', 'individual worth', 'inspiration', 'institute', 'integrity', 'joy', 'judging', 'justice', 'kindness', 'kingdom of God', 'knowledge', 'languages', 'last days', 'laws', 'leadership', 'learning', 'listening', 'literacy', 'literature', 'loneliness', 'love', 'loyalty', 'marriage', 'media', 'meekness', 'mental health', 'mental illness', 'mercy', 'military', 'ministering', 'miracles', 'mission of the Church', 'missionary work', 'modesty', 'morality', 'mortality', 'motherhood', 'music', 'name of Church', 'neighbors', 'nonmembers', 'obedience', 'offense', 'opposition', 'ordinances', 'parenthood', 'parents', 'patience', 'patriarchal blessings', 'patriotism', 'peace', 'peer pressure', 'perspective', 'pioneers', 'plan of salvation', 'pornography', 'poverty', 'prayer', 'prejudice', 'premortal existence', 'preparation', 'pride', 'priesthood', 'priesthood blessings', 'priesthood quorums', 'priorities', 'profanity', 'promptings', 'prophecy', 'prophets', 'religion', 'religious freedom', 'repentance', 'respect', 'responsibility', 'revelation', 'reverence', 'righteousness', 'sabbath', 'sacrament', 'sacredness', 'sacrifice', 'safety', 'scripture study', 'scriptures', 'sealings', 'self-control', 'self-esteem', 'self-reliance', 'seminary', 'service', 'sin', 'single members', 'sisterhood', 'social services', 'spirit world', 'spiritual gifts', 'spirituality', 'standards', 'stress', 'success', 'talents', 'teaching', 'technology', 'temple', 'temple work', 'temples', 'temptation', 'testimony', 'time management', 'tithing', 'tolerance', 'traditions', 'trust', 'truth', 'understanding', 'unity', 'values', 'violence', 'virtue', 'visiting teaching', 'wealth', 'welfare', 'wisdom', 'womanhood', 'women', 'work', 'worldliness', 'worship', 'worthiness', 'young adults', 'young single adults', 'youth']\n"
     ]
    }
   ],
   "source": [
    "cols()"
   ]
  },
  {
   "cell_type": "code",
   "execution_count": null,
   "metadata": {},
   "outputs": [],
   "source": []
  }
 ],
 "metadata": {
  "kernelspec": {
   "display_name": "Python 3",
   "language": "python",
   "name": "python3"
  },
  "language_info": {
   "codemirror_mode": {
    "name": "ipython",
    "version": 3
   },
   "file_extension": ".py",
   "mimetype": "text/x-python",
   "name": "python",
   "nbconvert_exporter": "python",
   "pygments_lexer": "ipython3",
   "version": "3.7.3"
  }
 },
 "nbformat": 4,
 "nbformat_minor": 2
}
