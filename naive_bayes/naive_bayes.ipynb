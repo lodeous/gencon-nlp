{
 "metadata": {
  "language_info": {
   "codemirror_mode": {
    "name": "ipython",
    "version": 3
   },
   "file_extension": ".py",
   "mimetype": "text/x-python",
   "name": "python",
   "nbconvert_exporter": "python",
   "pygments_lexer": "ipython3",
   "version": "3.8.5-final"
  },
  "orig_nbformat": 2,
  "kernelspec": {
   "name": "python385jvsc74a57bd031f2aee4e71d21fbe5cf8b01ff0e069b9275f58929596ceb00d14d90e3e16cd6",
   "display_name": "Python 3.8.5 64-bit"
  }
 },
 "nbformat": 4,
 "nbformat_minor": 2,
 "cells": [
  {
   "cell_type": "code",
   "execution_count": 1,
   "metadata": {},
   "outputs": [],
   "source": [
    "from naive_bayes import initialize\n",
    "from sklearn.naive_bayes import MultinomialNB\n",
    "from joblib import Parallel, delayed"
   ]
  },
  {
   "cell_type": "code",
   "execution_count": 2,
   "metadata": {},
   "outputs": [],
   "source": [
    "def run_naive_bayes_bernoulli(topic):\n",
    "    data, paths, cv = initialize(topic)\n",
    "    X_train, X_test, y_train, y_test = data\n",
    "    model = MultinomialNB()\n",
    "    model.fit(X_train, y_train)\n",
    "    return model.score(X_test, y_test)\n"
   ]
  },
  {
   "cell_type": "code",
   "execution_count": 3,
   "metadata": {},
   "outputs": [],
   "source": [
    "topics = ['faith', 'tithing', 'women', 'home', 'peace', 'Jesus Christ', 'Joseph Smith', 'modesty', 'pornography', 'sabbath', 'U.S. Constitution', 'Native Americans', 'family', 'temple work', 'repentance', 'Fall']"
   ]
  },
  {
   "cell_type": "code",
   "execution_count": 4,
   "metadata": {},
   "outputs": [],
   "source": [
    "performance_by_topic = Parallel(n_jobs=-1, verbose=0)(\n",
    "    delayed(run_naive_bayes_bernoulli)(topic) for topic in topics\n",
    ")"
   ]
  },
  {
   "cell_type": "code",
   "execution_count": 5,
   "metadata": {},
   "outputs": [
    {
     "output_type": "stream",
     "name": "stdout",
     "text": [
      "faith: 0.8653846153846154\ntithing: 0.9865384615384616\nwomen: 0.9682692307692308\nhome: 0.9682692307692308\npeace: 0.9692307692307692\nJesus Christ: 0.7692307692307693\nJoseph Smith: 0.9663461538461539\nmodesty: 1.0\npornography: 0.9971153846153846\nsabbath: 0.989423076923077\nU.S. Constitution: 0.9980769230769231\nNative Americans: 0.9990384615384615\nfamily: 0.8759615384615385\ntemple work: 0.9807692307692307\nrepentance: 0.9230769230769231\nFall: 0.9980769230769231\n"
     ]
    }
   ],
   "source": [
    "for i, topic in enumerate(topics):\n",
    "    print('{}: {}'.format(topic, performance_by_topic[i]))"
   ]
  }
 ]
}