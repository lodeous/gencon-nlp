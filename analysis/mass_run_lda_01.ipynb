{
 "cells": [
  {
   "cell_type": "code",
   "execution_count": 1,
   "metadata": {},
   "outputs": [],
   "source": [
    "import pandas as pd\n",
    "import numpy as np\n",
    "import os,glob\n",
    "from matplotlib import pyplot as plt"
   ]
  },
  {
   "cell_type": "code",
   "execution_count": 2,
   "metadata": {},
   "outputs": [],
   "source": [
    "import time"
   ]
  },
  {
   "cell_type": "code",
   "execution_count": 3,
   "metadata": {},
   "outputs": [],
   "source": [
    "from ldacgs import *"
   ]
  },
  {
   "cell_type": "code",
   "execution_count": 4,
   "metadata": {},
   "outputs": [],
   "source": [
    "path = 'other_files/'\n",
    "f = 'merged_summary_topics.json'"
   ]
  },
  {
   "cell_type": "code",
   "execution_count": 5,
   "metadata": {},
   "outputs": [],
   "source": [
    "new = pd.read_json(path + f)\n",
    "# my data is in data2 not data\n",
    "new['File'] = [x[5:] for x in new.File]\n",
    "new['File_num'] = [int(x[:-4]) for x in new.File]\n",
    "new['tag_count'] = [len(x) for x in new.topic_lists]"
   ]
  },
  {
   "cell_type": "code",
   "execution_count": 6,
   "metadata": {},
   "outputs": [
    {
     "data": {
      "text/html": [
       "<div>\n",
       "<style scoped>\n",
       "    .dataframe tbody tr th:only-of-type {\n",
       "        vertical-align: middle;\n",
       "    }\n",
       "\n",
       "    .dataframe tbody tr th {\n",
       "        vertical-align: top;\n",
       "    }\n",
       "\n",
       "    .dataframe thead th {\n",
       "        text-align: right;\n",
       "    }\n",
       "</style>\n",
       "<table border=\"1\" class=\"dataframe\">\n",
       "  <thead>\n",
       "    <tr style=\"text-align: right;\">\n",
       "      <th></th>\n",
       "      <th>Title</th>\n",
       "      <th>Speaker</th>\n",
       "      <th>File</th>\n",
       "      <th>Year</th>\n",
       "      <th>Month_letter</th>\n",
       "      <th>topic_lists</th>\n",
       "      <th>tag_count</th>\n",
       "      <th>File_num</th>\n",
       "    </tr>\n",
       "  </thead>\n",
       "  <tbody>\n",
       "    <tr>\n",
       "      <th>7</th>\n",
       "      <td>Be Slow to Anger</td>\n",
       "      <td>ElRay L. Christiansen</td>\n",
       "      <td>2009.txt</td>\n",
       "      <td>1971</td>\n",
       "      <td>A</td>\n",
       "      <td>[anger, forgiveness]</td>\n",
       "      <td>2</td>\n",
       "      <td>2009</td>\n",
       "    </tr>\n",
       "    <tr>\n",
       "      <th>1955</th>\n",
       "      <td>Living Worthy of the Girl You Will Someday Marry</td>\n",
       "      <td>Gordon B. Hinckley</td>\n",
       "      <td>6067.txt</td>\n",
       "      <td>1998</td>\n",
       "      <td>A</td>\n",
       "      <td>[missionary work, anger, education, loyalty, p...</td>\n",
       "      <td>16</td>\n",
       "      <td>6067</td>\n",
       "    </tr>\n",
       "    <tr>\n",
       "      <th>1965</th>\n",
       "      <td>Agency and Anger</td>\n",
       "      <td>Lynn G. Robbins</td>\n",
       "      <td>6077.txt</td>\n",
       "      <td>1998</td>\n",
       "      <td>A</td>\n",
       "      <td>[Jesus Christ, abuse, anger, accountability, a...</td>\n",
       "      <td>7</td>\n",
       "      <td>6077</td>\n",
       "    </tr>\n",
       "    <tr>\n",
       "      <th>2019</th>\n",
       "      <td>Strengthening Families: Our Sacred Duty</td>\n",
       "      <td>Robert D. Hales</td>\n",
       "      <td>6210.txt</td>\n",
       "      <td>1999</td>\n",
       "      <td>A</td>\n",
       "      <td>[councils, family history, prophets, anger, fa...</td>\n",
       "      <td>13</td>\n",
       "      <td>6210</td>\n",
       "    </tr>\n",
       "    <tr>\n",
       "      <th>2056</th>\n",
       "      <td>Our Legacy</td>\n",
       "      <td>Stephen B. Oveson</td>\n",
       "      <td>6285.txt</td>\n",
       "      <td>1999</td>\n",
       "      <td>O</td>\n",
       "      <td>[Jesus Christ, faith, Sunday School, tithing, ...</td>\n",
       "      <td>12</td>\n",
       "      <td>6285</td>\n",
       "    </tr>\n",
       "    <tr>\n",
       "      <th>2091</th>\n",
       "      <td>Keep an Eternal Perspective</td>\n",
       "      <td>Jay E. Jensen</td>\n",
       "      <td>6358.txt</td>\n",
       "      <td>2000</td>\n",
       "      <td>A</td>\n",
       "      <td>[missionary work, faith, music, perspective, s...</td>\n",
       "      <td>15</td>\n",
       "      <td>6358</td>\n",
       "    </tr>\n",
       "    <tr>\n",
       "      <th>2210</th>\n",
       "      <td>Reaching Down to Lift Another</td>\n",
       "      <td>Gordon B. Hinckley</td>\n",
       "      <td>6594.txt</td>\n",
       "      <td>2001</td>\n",
       "      <td>O</td>\n",
       "      <td>[anger, commandments, education, priesthood, w...</td>\n",
       "      <td>7</td>\n",
       "      <td>6594</td>\n",
       "    </tr>\n",
       "    <tr>\n",
       "      <th>2301</th>\n",
       "      <td>Forgiveness Will Change Bitterness to Love</td>\n",
       "      <td>David E. Sorensen</td>\n",
       "      <td>6802.txt</td>\n",
       "      <td>2003</td>\n",
       "      <td>A</td>\n",
       "      <td>[anger, forgiveness, love, criticism, family]</td>\n",
       "      <td>5</td>\n",
       "      <td>6802</td>\n",
       "    </tr>\n",
       "    <tr>\n",
       "      <th>2644</th>\n",
       "      <td>Slow to Anger</td>\n",
       "      <td>Gordon B. Hinckley</td>\n",
       "      <td>7497.txt</td>\n",
       "      <td>2007</td>\n",
       "      <td>O</td>\n",
       "      <td>[divorce, anger, marriage]</td>\n",
       "      <td>3</td>\n",
       "      <td>7497</td>\n",
       "    </tr>\n",
       "    <tr>\n",
       "      <th>2791</th>\n",
       "      <td>School Thy Feelings, O My Brother</td>\n",
       "      <td>Thomas S. Monson</td>\n",
       "      <td>7681.txt</td>\n",
       "      <td>2009</td>\n",
       "      <td>O</td>\n",
       "      <td>[anger, priesthood, self-control, sin]</td>\n",
       "      <td>4</td>\n",
       "      <td>7681</td>\n",
       "    </tr>\n",
       "  </tbody>\n",
       "</table>\n",
       "</div>"
      ],
      "text/plain": [
       "                                                 Title                Speaker  \\\n",
       "7                                     Be Slow to Anger  ElRay L. Christiansen   \n",
       "1955  Living Worthy of the Girl You Will Someday Marry     Gordon B. Hinckley   \n",
       "1965                                  Agency and Anger        Lynn G. Robbins   \n",
       "2019           Strengthening Families: Our Sacred Duty        Robert D. Hales   \n",
       "2056                                        Our Legacy      Stephen B. Oveson   \n",
       "2091                       Keep an Eternal Perspective          Jay E. Jensen   \n",
       "2210                     Reaching Down to Lift Another     Gordon B. Hinckley   \n",
       "2301        Forgiveness Will Change Bitterness to Love      David E. Sorensen   \n",
       "2644                                     Slow to Anger     Gordon B. Hinckley   \n",
       "2791                 School Thy Feelings, O My Brother       Thomas S. Monson   \n",
       "\n",
       "          File  Year Month_letter  \\\n",
       "7     2009.txt  1971            A   \n",
       "1955  6067.txt  1998            A   \n",
       "1965  6077.txt  1998            A   \n",
       "2019  6210.txt  1999            A   \n",
       "2056  6285.txt  1999            O   \n",
       "2091  6358.txt  2000            A   \n",
       "2210  6594.txt  2001            O   \n",
       "2301  6802.txt  2003            A   \n",
       "2644  7497.txt  2007            O   \n",
       "2791  7681.txt  2009            O   \n",
       "\n",
       "                                            topic_lists  tag_count  File_num  \n",
       "7                                  [anger, forgiveness]          2      2009  \n",
       "1955  [missionary work, anger, education, loyalty, p...         16      6067  \n",
       "1965  [Jesus Christ, abuse, anger, accountability, a...          7      6077  \n",
       "2019  [councils, family history, prophets, anger, fa...         13      6210  \n",
       "2056  [Jesus Christ, faith, Sunday School, tithing, ...         12      6285  \n",
       "2091  [missionary work, faith, music, perspective, s...         15      6358  \n",
       "2210  [anger, commandments, education, priesthood, w...          7      6594  \n",
       "2301      [anger, forgiveness, love, criticism, family]          5      6802  \n",
       "2644                         [divorce, anger, marriage]          3      7497  \n",
       "2791             [anger, priesthood, self-control, sin]          4      7681  "
      ]
     },
     "execution_count": 6,
     "metadata": {},
     "output_type": "execute_result"
    }
   ],
   "source": [
    "keep = ['Title','Speaker','File','Year','Month_letter','topic_lists','tag_count','File_num']\n",
    "new.loc[new.anger == 1][keep]"
   ]
  },
  {
   "cell_type": "code",
   "execution_count": 7,
   "metadata": {},
   "outputs": [
    {
     "name": "stdout",
     "output_type": "stream",
     "text": [
      "['anger', 'priesthood', 'self-control', 'sin']\n"
     ]
    },
    {
     "data": {
      "text/html": [
       "<div>\n",
       "<style scoped>\n",
       "    .dataframe tbody tr th:only-of-type {\n",
       "        vertical-align: middle;\n",
       "    }\n",
       "\n",
       "    .dataframe tbody tr th {\n",
       "        vertical-align: top;\n",
       "    }\n",
       "\n",
       "    .dataframe thead th {\n",
       "        text-align: right;\n",
       "    }\n",
       "</style>\n",
       "<table border=\"1\" class=\"dataframe\">\n",
       "  <thead>\n",
       "    <tr style=\"text-align: right;\">\n",
       "      <th></th>\n",
       "      <th>Title</th>\n",
       "      <th>Speaker</th>\n",
       "      <th>File</th>\n",
       "      <th>Year</th>\n",
       "      <th>Month</th>\n",
       "      <th>topic_lists</th>\n",
       "      <th>File_num</th>\n",
       "      <th>tag_count</th>\n",
       "    </tr>\n",
       "  </thead>\n",
       "  <tbody>\n",
       "    <tr>\n",
       "      <th>2791</th>\n",
       "      <td>School Thy Feelings, O My Brother</td>\n",
       "      <td>Thomas S. Monson</td>\n",
       "      <td>7681.txt</td>\n",
       "      <td>2009</td>\n",
       "      <td>10</td>\n",
       "      <td>[anger, priesthood, self-control, sin]</td>\n",
       "      <td>7681</td>\n",
       "      <td>4</td>\n",
       "    </tr>\n",
       "  </tbody>\n",
       "</table>\n",
       "</div>"
      ],
      "text/plain": [
       "                                  Title           Speaker      File  Year  \\\n",
       "2791  School Thy Feelings, O My Brother  Thomas S. Monson  7681.txt  2009   \n",
       "\n",
       "      Month                             topic_lists  File_num  tag_count  \n",
       "2791     10  [anger, priesthood, self-control, sin]      7681          4  "
      ]
     },
     "execution_count": 7,
     "metadata": {},
     "output_type": "execute_result"
    }
   ],
   "source": [
    "file_num = 7681\n",
    "x = new.loc[new.File_num == file_num][['Title','Speaker','File','Year','Month','topic_lists','File_num','tag_count']]\n",
    "print(x.topic_lists.values[0])\n",
    "x"
   ]
  },
  {
   "cell_type": "code",
   "execution_count": 8,
   "metadata": {},
   "outputs": [
    {
     "data": {
      "text/plain": [
       "'7681.txt'"
      ]
     },
     "execution_count": 8,
     "metadata": {},
     "output_type": "execute_result"
    }
   ],
   "source": [
    "new.loc[new.File_num == file_num].File.values[0]"
   ]
  },
  {
   "cell_type": "markdown",
   "metadata": {},
   "source": [
    "# Iterate through the talks\n",
    "-"
   ]
  },
  {
   "cell_type": "code",
   "execution_count": 14,
   "metadata": {},
   "outputs": [
    {
     "name": "stdout",
     "output_type": "stream",
     "text": [
      "5.003112077713013\n"
     ]
    }
   ],
   "source": [
    "start = time.time()\n",
    "time.sleep(5)\n",
    "print(time.time() - start)"
   ]
  },
  {
   "cell_type": "code",
   "execution_count": 20,
   "metadata": {},
   "outputs": [
    {
     "data": {
      "text/plain": [
       "Index(['Year', 'Month_letter', 'Speaker', 'Title', 'File', 'Kicker', 'Month',\n",
       "       'Unnamed: 0', 'topic_lists', 'Aaronic Priesthood'],\n",
       "      dtype='object')"
      ]
     },
     "execution_count": 20,
     "metadata": {},
     "output_type": "execute_result"
    }
   ],
   "source": [
    "new.columns[:10]"
   ]
  },
  {
   "cell_type": "code",
   "execution_count": 31,
   "metadata": {},
   "outputs": [],
   "source": [
    "import sys\n",
    "import traceback\n",
    "\n"
   ]
  },
  {
   "cell_type": "code",
   "execution_count": 39,
   "metadata": {},
   "outputs": [
    {
     "name": "stdout",
     "output_type": "stream",
     "text": [
      "this is going to run 150 times\n"
     ]
    }
   ],
   "source": [
    "counter = 0\n",
    "files = new.loc[new.fasting == 1].File_num.values\n",
    "repeat_lda_times = 5\n",
    "total_times = len(files) * repeat_lda_times\n",
    "print(f'this is going to run {total_times} times')"
   ]
  },
  {
   "cell_type": "markdown",
   "metadata": {},
   "source": [
    "# BECAUSE I'M GOING BY TOPIC - I COULD ACCIDENTALLY BE REPEATING TALKS IN THE LDA that have tags in both"
   ]
  },
  {
   "cell_type": "code",
   "execution_count": 40,
   "metadata": {
    "collapsed": true
   },
   "outputs": [
    {
     "name": "stdout",
     "output_type": "stream",
     "text": [
      "done with counter = 5,or 3.3% done\n",
      "its been running for 0.63 minutes\n",
      "done with counter = 10,or 6.7% done\n",
      "its been running for 1.03 minutes\n",
      "done with counter = 15,or 10.0% done\n",
      "its been running for 1.45 minutes\n",
      "done with counter = 20,or 13.3% done\n",
      "its been running for 1.56 minutes\n",
      "done with counter = 25,or 16.7% done\n",
      "its been running for 2.27 minutes\n",
      "done with counter = 30,or 20.0% done\n",
      "its been running for 2.45 minutes\n",
      "done with counter = 35,or 23.3% done\n",
      "its been running for 2.88 minutes\n",
      "done with counter = 40,or 26.7% done\n",
      "its been running for 3.37 minutes\n",
      "done with counter = 45,or 30.0% done\n",
      "its been running for 4.22 minutes\n",
      "done with counter = 50,or 33.3% done\n",
      "its been running for 4.81 minutes\n",
      "done with counter = 55,or 36.7% done\n",
      "its been running for 5.44 minutes\n",
      "done with counter = 60,or 40.0% done\n",
      "its been running for 6.21 minutes\n",
      "done with counter = 65,or 43.3% done\n",
      "its been running for 6.86 minutes\n",
      "done with counter = 70,or 46.7% done\n",
      "its been running for 7.51 minutes\n",
      "done with counter = 75,or 50.0% done\n",
      "its been running for 8.24 minutes\n",
      "done with counter = 80,or 53.3% done\n",
      "its been running for 8.61 minutes\n",
      "done with counter = 85,or 56.7% done\n",
      "its been running for 9.24 minutes\n",
      "done with counter = 90,or 60.0% done\n",
      "its been running for 9.62 minutes\n",
      "done with counter = 95,or 63.3% done\n",
      "its been running for 10.31 minutes\n",
      "done with counter = 100,or 66.7% done\n",
      "its been running for 10.71 minutes\n",
      "done with counter = 105,or 70.0% done\n",
      "its been running for 11.29 minutes\n",
      "done with counter = 110,or 73.3% done\n",
      "its been running for 11.85 minutes\n",
      "done with counter = 115,or 76.7% done\n",
      "its been running for 12.21 minutes\n",
      "done with counter = 120,or 80.0% done\n",
      "its been running for 12.71 minutes\n",
      "done with counter = 125,or 83.3% done\n",
      "its been running for 13.43 minutes\n",
      "done with counter = 130,or 86.7% done\n",
      "its been running for 13.79 minutes\n",
      "done with counter = 135,or 90.0% done\n",
      "its been running for 14.18 minutes\n",
      "done with counter = 140,or 93.3% done\n",
      "its been running for 14.73 minutes\n",
      "done with counter = 145,or 96.7% done\n",
      "its been running for 15.35 minutes\n",
      "done with counter = 150,or 100.0% done\n",
      "its been running for 15.66 minutes\n",
      "there were 0 errors\n"
     ]
    }
   ],
   "source": [
    "\n",
    "\n",
    "# results = dict()\n",
    "# beginning = time.time()\n",
    "# errors = 0\n",
    "# for file_num in files:\n",
    "#     for i in range(repeat_lda_times):\n",
    "#         try:\n",
    "#             x = new.loc[new.File_num == file_num]\n",
    "#             start = time.time()\n",
    "#             #gs for gibbs sampler\n",
    "#             gs = LDACGS(n_topics=10)\n",
    "#             # gs.buildCorpus(filename='reagan.txt')\n",
    "#             # gs.initialize()\n",
    "#             # gs._sweep()\n",
    "\n",
    "#             gs.sample(filename='data2/' + new.loc[new.File_num == file_num].File.values[0]\n",
    "#                     , stopwords_file='../3winter21/Gibbs_LDA/' + 'stopwords.txt')\n",
    "\n",
    "#             results[counter] = {'File_num':file_num\n",
    "#                  ,'Title':x.Title\n",
    "#                  ,'Speaker':x.Speaker\n",
    "#                  ,'Year':x.Year\n",
    "#                  ,'Month':x.Month\n",
    "#                   #iter is number of times LDA was run on this talk \n",
    "#                  ,'iter':i\n",
    "#                  ,'time (sec)':time.time() - start\n",
    "#                  ,'log_probs':gs.logprobs\n",
    "#                  ,'fifty_words':np.array(gs.topterms(n_terms=5))\n",
    "#                  }\n",
    "#             counter += 1\n",
    "#         except:\n",
    "#             errors += 1\n",
    "#             message = str({'File_num':file_num\n",
    "#              ,'Title':x.Title\n",
    "#              ,'Speaker':x.Speaker\n",
    "#              ,'Year':x.Year\n",
    "#              ,'Month':x.Month })\n",
    "#             traceback.print_exc()\n",
    "#             print(message, 'failed')\n",
    "#     if (counter % 5) == 0:\n",
    "#         print(f'done with counter = {counter},or {np.round(counter / total_times * 100,1)}% done')\n",
    "#         print(f'its been running for {np.round((time.time() - beginning) / 60,2)} minutes')\n",
    "# print(f'there were {errors} errors')\n",
    "        "
   ]
  },
  {
   "cell_type": "code",
   "execution_count": null,
   "metadata": {},
   "outputs": [],
   "source": [
    "chosen_topic = 'fasting'\n",
    "repeat_lda_times = 5\n",
    "params = [(0.001,1)\n",
    "    ,(0.005,1)\n",
    "    ,(0.001,0.17)]\n",
    "attempt = 0\n",
    "output_filename = f'{chosen_topic}_{repeat_lda_times}_lda_per_talk_attempt_{attempt}.json'"
   ]
  },
  {
   "cell_type": "code",
   "execution_count": null,
   "metadata": {},
   "outputs": [],
   "source": [
    "results = dict()\n",
    "beginning = time.time()\n",
    "errors = 0\n",
    "\n",
    "counter = 0\n",
    "files = new.loc[new[chosen_topic] == 1].File_num.values\n",
    "# new_set = set(files)\n",
    "# I don't need to worry about repreats right now because I'm exploring with alpha beta params\n",
    "# files = new_set - already_done_file_nums\n",
    "# already_done_file_nums = already_done_file_nums.union(new_set)\n",
    "\n",
    "total_times = len(files) * repeat_lda_times\n",
    "print(f'this is going to run {total_times} times')\n",
    "for file_num in files:\n",
    "    for i in range(repeat_lda_times):\n",
    "        # avoid out of error with accessing betas\n",
    "        j = (i % len(params))\n",
    "        a,b = params[j]\n",
    "        raise\n",
    "        try:\n",
    "            x = new.loc[new.File_num == file_num]\n",
    "            start = time.time()\n",
    "            #gs for gibbs sampler\n",
    "            gs = LDACGS(n_topics=10,alpha=a,beta=b)\n",
    "            # gs.buildCorpus(filename='reagan.txt')\n",
    "            # gs.initialize()\n",
    "            # gs._sweep()\n",
    "\n",
    "            gs.sample(filename='data2/' + new.loc[new.File_num == file_num].File.values[0]\n",
    "                    , stopwords_file='../3winter21/Gibbs_LDA/' + 'stopwords.txt')\n",
    "\n",
    "            results[counter] = {'File_num':file_num\n",
    "                 ,'Title':x.Title\n",
    "                 ,'Speaker':x.Speaker\n",
    "                 ,'Year':x.Year\n",
    "                 ,'Month':x.Month\n",
    "                 ,'alpha':a\n",
    "                 ,'beta':b\n",
    "                 ,'topic_lists':x.topic_lists\n",
    "                  #iter is number of times LDA was run on this talk\n",
    "                 ,'iter':i\n",
    "                 ,'time (sec)':time.time() - start\n",
    "                 ,'log_probs':gs.logprobs\n",
    "                 ,'fifty_words':np.array(gs.topterms(n_terms=5))\n",
    "                 }\n",
    "            counter += 1\n",
    "        except:\n",
    "            errors += 1\n",
    "            message = str({'File_num':file_num\n",
    "             ,'Title':x.Title\n",
    "             ,'Speaker':x.Speaker\n",
    "             ,'Year':x.Year\n",
    "             ,'Month':x.Month })\n",
    "            traceback.print_exc()\n",
    "            print(message, 'failed')\n",
    "    if (counter % 5) == 0:\n",
    "        print(f'done with counter = {counter},or {np.round(counter / total_times * 100,1)}% done')\n",
    "        print(f'its been running for {np.round((time.time() - beginning) / 60,2)} minutes')\n",
    "print(f'there were {errors} errors')\n",
    "\n",
    "pd.DataFrame(results).T.to_json(output_filename)"
   ]
  },
  {
   "cell_type": "markdown",
   "metadata": {},
   "source": [
    "# How long did it take \n",
    "- pride, 5 per talk lda runs, 135 runs total: 14 minutes\n",
    "- fasting,  5 per talk lda runs, 150 runs total: 16 minutes (0 errors)"
   ]
  },
  {
   "cell_type": "code",
   "execution_count": null,
   "metadata": {},
   "outputs": [],
   "source": []
  },
  {
   "cell_type": "markdown",
   "metadata": {},
   "source": [
    "# add in alpha, beta into results, and should I change it? "
   ]
  },
  {
   "cell_type": "code",
   "execution_count": 41,
   "metadata": {},
   "outputs": [],
   "source": [
    "attempt = 0\n",
    "pd.DataFrame(results).T.to_json(f'fasting_5_lda_per_talk_attempt_{attempt}.json')"
   ]
  },
  {
   "cell_type": "code",
   "execution_count": 42,
   "metadata": {},
   "outputs": [
    {
     "data": {
      "text/plain": [
       "['pride_5_lda_per_talk_attempt_0.json',\n",
       " 'anger_5_lda_per_talk_attempt_0.json',\n",
       " 'baptism_5_lda_per_talk_attempt_0.json',\n",
       " 'fasting_5_lda_per_talk_attempt_0.json']"
      ]
     },
     "execution_count": 42,
     "metadata": {},
     "output_type": "execute_result"
    }
   ],
   "source": [
    "glob.glob('*.json')"
   ]
  },
  {
   "cell_type": "code",
   "execution_count": 27,
   "metadata": {},
   "outputs": [],
   "source": [
    "# then for each time that lda was run for one talk, combine all the topterms in to one feature space, \n",
    "r = pd.DataFrame(results).T"
   ]
  },
  {
   "cell_type": "markdown",
   "metadata": {},
   "source": [
    "# look for talks that have been repeated"
   ]
  },
  {
   "cell_type": "code",
   "execution_count": 43,
   "metadata": {},
   "outputs": [],
   "source": [
    "jsons = dict()\n",
    "for f in glob.glob('*.json'):\n",
    "    jsons[f] = pd.read_json(f)"
   ]
  },
  {
   "cell_type": "code",
   "execution_count": 44,
   "metadata": {},
   "outputs": [
    {
     "data": {
      "text/plain": [
       "Index(['File_num', 'Title', 'Speaker', 'Year', 'Month', 'iter', 'time (sec)',\n",
       "       'log_probs', 'fifty_words'],\n",
       "      dtype='object')"
      ]
     },
     "execution_count": 44,
     "metadata": {},
     "output_type": "execute_result"
    }
   ],
   "source": [
    "#t for tempt\n",
    "t = jsons['pride_5_lda_per_talk_attempt_0.json'].copy()\n",
    "t.columns"
   ]
  },
  {
   "cell_type": "code",
   "execution_count": 50,
   "metadata": {},
   "outputs": [],
   "source": [
    "file_nums = np.array([])\n",
    "for f in glob.glob('*.json'):\n",
    "    t = jsons[f].copy()\n",
    "    file_nums = np.append(file_nums,list(set(t.File_num.values)))"
   ]
  },
  {
   "cell_type": "code",
   "execution_count": 51,
   "metadata": {},
   "outputs": [],
   "source": [
    "unique_elements, counts_elements = np.unique(np.array(file_nums), return_counts=True)"
   ]
  },
  {
   "cell_type": "code",
   "execution_count": 58,
   "metadata": {},
   "outputs": [],
   "source": [
    "# this shows that each talk that I've done this far hasn't been repeated\n",
    "already_done_file_nums = set(unique_elements)"
   ]
  },
  {
   "cell_type": "code",
   "execution_count": 62,
   "metadata": {
    "scrolled": true
   },
   "outputs": [
    {
     "name": "stdout",
     "output_type": "stream",
     "text": [
      "{6144.0, 7681.0, 6658.0, 5379.0, 8072.0, 5769.0, 5002.0, 5003.0, 6285.0, 8078.0, 7055.0, 3088.0, 8079.0, 6802.0, 6292.0, 6296.0, 5017.0, 4250.0, 8216.0, 4259.0, 6520.0, 5925.0, 6055.0, 6059.0, 5680.0, 6067.0, 5303.0, 3512.0, 6072.0, 6583.0, 7610.0, 6077.0, 3006.0, 8127.0, 6210.0, 4931.0, 6594.0, 7877.0, 3529.0, 5450.0, 5835.0, 7497.0, 7754.0, 5454.0, 6606.0, 5840.0, 6609.0, 8268.0, 8270.0, 4948.0, 7764.0, 6358.0, 7638.0, 2009.0, 5850.0, 8155.0, 4700.0, 2528.0, 5472.0, 8033.0, 8036.0, 8165.0, 2022.0, 4198.0, 6502.0, 8169.0, 6508.0, 5230.0, 6511.0, 8049.0, 8053.0, 8054.0, 5240.0, 6525.0, 7039.0}\n"
     ]
    }
   ],
   "source": [
    "print(set(unique_elements))"
   ]
  },
  {
   "cell_type": "code",
   "execution_count": 66,
   "metadata": {},
   "outputs": [
    {
     "data": {
      "text/plain": [
       "{-3, -2, -1}"
      ]
     },
     "execution_count": 66,
     "metadata": {},
     "output_type": "execute_result"
    }
   ],
   "source": [
    "new_set = {7764.0, 6358.0, 7638.0,-1,-2,-3}\n",
    "#use set difference\n"
   ]
  },
  {
   "cell_type": "code",
   "execution_count": 63,
   "metadata": {},
   "outputs": [
    {
     "data": {
      "text/plain": [
       "Index(['Year', 'Month_letter', 'Speaker', 'Title', 'File', 'Kicker', 'Month',\n",
       "       'Unnamed: 0', 'topic_lists', 'Aaronic Priesthood'],\n",
       "      dtype='object')"
      ]
     },
     "execution_count": 63,
     "metadata": {},
     "output_type": "execute_result"
    }
   ],
   "source": [
    "x.columns[:10]"
   ]
  },
  {
   "cell_type": "code",
   "execution_count": null,
   "metadata": {},
   "outputs": [],
   "source": []
  }
 ],
 "metadata": {
  "kernelspec": {
   "display_name": "Python 3",
   "language": "python",
   "name": "python3"
  },
  "language_info": {
   "codemirror_mode": {
    "name": "ipython",
    "version": 3
   },
   "file_extension": ".py",
   "mimetype": "text/x-python",
   "name": "python",
   "nbconvert_exporter": "python",
   "pygments_lexer": "ipython3",
   "version": "3.7.3"
  }
 },
 "nbformat": 4,
 "nbformat_minor": 2
}
