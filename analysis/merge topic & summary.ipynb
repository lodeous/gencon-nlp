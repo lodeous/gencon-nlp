{
 "cells": [
  {
   "cell_type": "code",
   "execution_count": 1,
   "metadata": {},
   "outputs": [],
   "source": [
    "import pandas as pd\n",
    "import numpy as np\n",
    "import os,glob\n",
    "from matplotlib import pyplot as plt"
   ]
  },
  {
   "cell_type": "code",
   "execution_count": 2,
   "metadata": {},
   "outputs": [],
   "source": [
    "def modify_topics(t):\n",
    "    ''' \n",
    "    Create a field/column with a list of the topics for that talk\n",
    "    \n",
    "    Modify the topics csv so that the title of the Talk will be split into the appropriate dates\n",
    "    \n",
    "    create a one hot encoding for the topics\n",
    "    - so it becomes easy to search for specific topics, or topics for specific speakers\n",
    "    '''\n",
    "    # just remove the NaN \n",
    "    # topics_columns = t.fillna(0).iloc[:,range(1,24)].values\n",
    "    topics_columns = t.fillna(0).iloc[:,1:].values\n",
    "    topics_columns = [[x for x in row if x != 0] for row in topics_columns]\n",
    "    t['topic_lists'] = topics_columns\n",
    "    \n",
    "    colon = np.array([x[-8] == ':' for x in t[t.columns[0]]])\n",
    "    assert (colon.astype(int).sum() / t.shape[0]) == 1.0,'there are places where the colon isnt the -8th element in string'\n",
    "    t['Title'] = [x[:-8] for x in t[t.columns[0]]]\n",
    "    t['Year'] = [int(x[-7:-3]) for x in t[t.columns[0]]]\n",
    "    t['Month'] = [int(x[-2:]) for x in t[t.columns[0]]]\n",
    "    \n",
    "    #create one hot encoding for topics\n",
    "    # this was a really fast process\n",
    "    all_topics = set()\n",
    "    for i in range(0,23):\n",
    "        all_topics = all_topics.union(set(t[str(i)].unique()))\n",
    "    #print(len(all_topics))\n",
    "    all_topics.remove(np.nan)\n",
    "    #print(len(all_topics))\n",
    "    z = np.zeros((t.shape[0],len(all_topics)))\n",
    "    Z = pd.DataFrame(z,columns = sorted(list(all_topics)))\n",
    "    #print(t.shape,Z.shape)\n",
    "    t = pd.concat([t,Z],axis=1)\n",
    "    #print(t.shape)\n",
    "    \n",
    "    # my algorithm for the one hot encoding will be to iterate through the rows, \n",
    "    #an for the list of topics for that row to add one in the appropriate column\n",
    "    # this ran in just a few seconds\n",
    "    column_names = list(t.columns)\n",
    "    for i in range(t.shape[0]):\n",
    "        individual_topics = t.iloc[i]['topic_lists']\n",
    "        for topic in individual_topics:\n",
    "            t.iloc[i,column_names.index(topic)] += 1\n",
    "            \n",
    "    #note that temples and temple have the exact same talks associated, so it's useless to keep both\n",
    "    t.drop(columns='temples',inplace=True)\n",
    "            \n",
    "    return t\n",
    "    "
   ]
  },
  {
   "cell_type": "code",
   "execution_count": 3,
   "metadata": {},
   "outputs": [],
   "source": [
    "def cols(temp):\n",
    "    l = [x for x in temp.columns]\n",
    "    print(l)"
   ]
  },
  {
   "cell_type": "code",
   "execution_count": 4,
   "metadata": {},
   "outputs": [
    {
     "name": "stdout",
     "output_type": "stream",
     "text": [
      "(3692, 24)\n",
      "Index(['Unnamed: 0', '0', '1', '2', '3', '4', '5', '6', '7', '8', '9', '10',\n",
      "       '11', '12', '13', '14', '15', '16', '17', '18', '19', '20', '21', '22'],\n",
      "      dtype='object')\n",
      "t shape after one hot encoding topics (3692, 326)\n"
     ]
    }
   ],
   "source": [
    "#t for topics\n",
    "t = pd.read_csv('data/topic_data.csv')\n",
    "print(t.shape)\n",
    "print(t.columns)\n",
    "t = modify_topics(t)\n",
    "print('t shape after one hot encoding topics',t.shape)\n",
    "# t.tail(10)"
   ]
  },
  {
   "cell_type": "code",
   "execution_count": 5,
   "metadata": {},
   "outputs": [
    {
     "name": "stdout",
     "output_type": "stream",
     "text": [
      "(5365, 6)\n",
      "Index(['Year', 'Month_letter', 'Speaker', 'Title', 'File', 'Kicker'], dtype='object')\n"
     ]
    }
   ],
   "source": [
    "#s for summary\n",
    "s = pd.read_csv('summary2.csv',index_col=0)\n",
    "print(s.shape)\n",
    "s.rename(columns={'Month':'Month_letter'},inplace=True)\n",
    "print(s.columns)\n",
    "s['Month'] = s['Month_letter'].map({'A':4,'O':10})"
   ]
  },
  {
   "cell_type": "code",
   "execution_count": 6,
   "metadata": {},
   "outputs": [],
   "source": [
    "#s for summary\n",
    "# s2 = pd.read_csv('data/wrongsummary.csv',index_col=0)\n",
    "# print(s2.shape)\n",
    "# s2.rename(columns={'Month':'Month_letter'},inplace=True)\n",
    "# print(s2.columns)\n",
    "# s2['Month'] = s2['Month_letter'].map({'A':4,'O':10})"
   ]
  },
  {
   "cell_type": "code",
   "execution_count": 7,
   "metadata": {},
   "outputs": [],
   "source": [
    "# s2.equals(s)"
   ]
  },
  {
   "cell_type": "code",
   "execution_count": 8,
   "metadata": {
    "scrolled": true
   },
   "outputs": [],
   "source": [
    "#check to se if the talk by elder eyring \"try,try,try\" appears as such instead of \"try\"\n",
    "# s.loc[(s.Year == 2018) & (s.Month == 10)]"
   ]
  },
  {
   "cell_type": "code",
   "execution_count": 9,
   "metadata": {},
   "outputs": [
    {
     "data": {
      "text/plain": [
       "(1942, 1971)"
      ]
     },
     "execution_count": 9,
     "metadata": {},
     "output_type": "execute_result"
    }
   ],
   "source": [
    "s.Year.min(),t.Year.min()"
   ]
  },
  {
   "cell_type": "code",
   "execution_count": 10,
   "metadata": {},
   "outputs": [],
   "source": [
    "#drop the columns where s is less than 1971 to prep for merge between s and t\n",
    "s.drop(index=s.loc[s.Year < 1971].index,inplace=True)\n",
    "t.drop(columns=[str(x) for x in range(23)],inplace=True)"
   ]
  },
  {
   "cell_type": "code",
   "execution_count": 11,
   "metadata": {},
   "outputs": [
    {
     "name": "stdout",
     "output_type": "stream",
     "text": [
      "t.shape (3692, 303) s.shape (3542, 7)\n",
      "(3465, 307)\n"
     ]
    }
   ],
   "source": [
    "print('t.shape',t.shape,'s.shape',s.shape)\n",
    "new = s.merge(t,how='inner',left_on=['Title','Year','Month'],right_on=['Title','Year','Month'])\n",
    "print(new.shape)"
   ]
  },
  {
   "cell_type": "markdown",
   "metadata": {},
   "source": [
    "# there would be 303 + 7 = 310 columns but there are 3 columns repeated\n",
    "so 310 - 3 = 307 columns makes sense"
   ]
  },
  {
   "cell_type": "code",
   "execution_count": 12,
   "metadata": {},
   "outputs": [],
   "source": [
    "# new.loc[(new.Year == 2018) & (new.Month == 10) & (new.Speaker == 'Henry B. Eyring')]"
   ]
  },
  {
   "cell_type": "code",
   "execution_count": 13,
   "metadata": {},
   "outputs": [],
   "source": [
    "new.to_csv('merged_summary_topics.csv',index=False)"
   ]
  },
  {
   "cell_type": "code",
   "execution_count": 14,
   "metadata": {},
   "outputs": [],
   "source": [
    "new2 = pd.read_csv('merged_summary_topics.csv')"
   ]
  },
  {
   "cell_type": "code",
   "execution_count": 15,
   "metadata": {},
   "outputs": [],
   "source": [
    "# new2.loc[(new2.Year == 2018) & (new2.Month == 10) & (new2.Speaker == 'Henry B. Eyring')]"
   ]
  },
  {
   "cell_type": "code",
   "execution_count": 16,
   "metadata": {},
   "outputs": [
    {
     "data": {
      "text/plain": [
       "False"
      ]
     },
     "execution_count": 16,
     "metadata": {},
     "output_type": "execute_result"
    }
   ],
   "source": [
    "new.equals(new2)"
   ]
  },
  {
   "cell_type": "code",
   "execution_count": 17,
   "metadata": {},
   "outputs": [
    {
     "data": {
      "text/plain": [
       "(3465, 307)"
      ]
     },
     "execution_count": 17,
     "metadata": {},
     "output_type": "execute_result"
    }
   ],
   "source": [
    "new2.shape"
   ]
  },
  {
   "cell_type": "code",
   "execution_count": 18,
   "metadata": {},
   "outputs": [
    {
     "data": {
      "text/plain": [
       "Thomas S. Monson      207\n",
       "Gordon B. Hinckley    207\n",
       "James E. Faust         97\n",
       "Boyd K. Packer         86\n",
       "L. Tom Perry           85\n",
       "Henry B. Eyring        85\n",
       "M. Russell Ballard     78\n",
       "Russell M. Nelson      77\n",
       "Dallin H. Oaks         73\n",
       "Spencer W. Kimball     69\n",
       "Ezra Taft Benson       60\n",
       "Richard G. Scott       59\n",
       "David B. Haight        59\n",
       "Dieter F. Uchtdorf     59\n",
       "Robert D. Hales        58\n",
       "Marion G. Romney       57\n",
       "Joseph B. Wirthlin     53\n",
       "Howard W. Hunter       51\n",
       "Jeffrey R. Holland     51\n",
       "Neal A. Maxwell        50\n",
       "Name: Speaker, dtype: int64"
      ]
     },
     "execution_count": 18,
     "metadata": {},
     "output_type": "execute_result"
    }
   ],
   "source": [
    "new.Speaker.value_counts().iloc[:20]"
   ]
  },
  {
   "cell_type": "code",
   "execution_count": 19,
   "metadata": {},
   "outputs": [
    {
     "data": {
      "image/png": "[encoded data removed]",
      "text/plain": [
       "<Figure size 576x504 with 1 Axes>"
      ]
     },
     "metadata": {
      "needs_background": "light"
     },
     "output_type": "display_data"
    }
   ],
   "source": [
    "x = new.Speaker.value_counts().iloc[:20]\n",
    "x.sort_values(ascending=True,inplace=True)\n",
    "\n",
    "fig = plt.figure(figsize=(4*2,7))\n",
    "x.plot(kind='barh')\n",
    "plt.xlabel('Number of Talks')\n",
    "plt.title('Most Common Speakers')\n",
    "plt.savefig('Most Common Speakers.png',dpi=300)\n",
    "plt.tight_layout()\n",
    "plt.show()"
   ]
  },
  {
   "cell_type": "code",
   "execution_count": 20,
   "metadata": {},
   "outputs": [],
   "source": [
    "def most_common_talks(speaker):\n",
    "    y = new.loc[new.Speaker == speaker]\n",
    "    # the topics are the 9th column and on\n",
    "    z = y.iloc[:,9:]\n",
    "    tcounts = z.sum()\n",
    "    tcounts.sort_values(ascending=False,inplace=True)\n",
    "    fig = plt.figure(figsize=(5,7))\n",
    "    temp = tcounts.head(20)\n",
    "    temp.sort_values(ascending=True,inplace=True)\n",
    "    temp.plot(kind='barh')\n",
    "    plt.title(f'Most Common Topics for {speaker}')\n",
    "    plt.show()"
   ]
  },
  {
   "cell_type": "code",
   "execution_count": 21,
   "metadata": {},
   "outputs": [
    {
     "data": {
      "text/plain": [
       "Thomas S. Monson      207\n",
       "Gordon B. Hinckley    207\n",
       "James E. Faust         97\n",
       "Boyd K. Packer         86\n",
       "L. Tom Perry           85\n",
       "Henry B. Eyring        85\n",
       "M. Russell Ballard     78\n",
       "Russell M. Nelson      77\n",
       "Dallin H. Oaks         73\n",
       "Spencer W. Kimball     69\n",
       "Ezra Taft Benson       60\n",
       "Richard G. Scott       59\n",
       "David B. Haight        59\n",
       "Dieter F. Uchtdorf     59\n",
       "Robert D. Hales        58\n",
       "Marion G. Romney       57\n",
       "Joseph B. Wirthlin     53\n",
       "Howard W. Hunter       51\n",
       "Jeffrey R. Holland     51\n",
       "Neal A. Maxwell        50\n",
       "Name: Speaker, dtype: int64"
      ]
     },
     "execution_count": 21,
     "metadata": {},
     "output_type": "execute_result"
    }
   ],
   "source": [
    "new.Speaker.value_counts().iloc[:20]"
   ]
  },
  {
   "cell_type": "code",
   "execution_count": 22,
   "metadata": {},
   "outputs": [],
   "source": [
    "# most_common_talks('Thomas S. Monson')"
   ]
  },
  {
   "cell_type": "code",
   "execution_count": 23,
   "metadata": {
    "scrolled": true
   },
   "outputs": [],
   "source": [
    "# most_common_talks('Russell M. Nelson')"
   ]
  },
  {
   "cell_type": "code",
   "execution_count": 24,
   "metadata": {},
   "outputs": [],
   "source": [
    "def plot_two_speaker_topics(list_speakers,figure_title):\n",
    "    \n",
    "    fig,ax = plt.subplots(1,2,figsize=(4*2,4*2))\n",
    "    speaker = list_speakers[0]\n",
    "    y = new.loc[new.Speaker == speaker]\n",
    "    # the topics are the 9th column and on\n",
    "    z = y.iloc[:,9:]\n",
    "    tcounts = z.sum()\n",
    "    tcounts.sort_values(ascending=False,inplace=True)\n",
    "    temp = tcounts.head(20)\n",
    "    temp.sort_values(ascending=True,inplace=True)\n",
    "    temp.plot(kind='barh',ax=ax[0])\n",
    "    ax[0].set_title(f'Most Common Topics for\\n{speaker}')\n",
    "\n",
    "    speaker = list_speakers[1]\n",
    "    y = new.loc[new.Speaker == speaker]\n",
    "    # the topics are the 9th column and on\n",
    "    z = y.iloc[:,9:]\n",
    "    tcounts = z.sum()\n",
    "    tcounts.sort_values(ascending=False,inplace=True)\n",
    "    temp = tcounts.head(20)\n",
    "    temp.sort_values(ascending=True,inplace=True)\n",
    "    temp.plot(kind='barh',ax=ax[1])\n",
    "    ax[1].set_title(f'Most Common Topics for\\n{speaker}')\n",
    "\n",
    "    plt.tight_layout()\n",
    "    plt.savefig(figure_title,dpi=300)\n",
    "    plt.show()"
   ]
  },
  {
   "cell_type": "code",
   "execution_count": 25,
   "metadata": {},
   "outputs": [
    {
     "data": {
      "text/plain": [
       "['topic_count.csv',\n",
       " '.DS_Store',\n",
       " 'merged_summary_topics.csv',\n",
       " 'gencon-nlp',\n",
       " 'web',\n",
       " 'Most Common Speakers.png',\n",
       " 'data2.zip',\n",
       " 'merge topic & summary.ipynb',\n",
       " 'Monson_Nelson_most_common_talks.png',\n",
       " 'delete.png',\n",
       " 'summary2.csv',\n",
       " '.ipynb_checkpoints',\n",
       " 'data',\n",
       " 'Holland_Uchtdorf_most_common_talks.png']"
      ]
     },
     "execution_count": 25,
     "metadata": {},
     "output_type": "execute_result"
    }
   ],
   "source": [
    "os.listdir()"
   ]
  },
  {
   "cell_type": "code",
   "execution_count": 26,
   "metadata": {},
   "outputs": [
    {
     "data": {
      "image/png": "[encoded data removed]",
      "text/plain": [
       "<Figure size 576x576 with 2 Axes>"
      ]
     },
     "metadata": {
      "needs_background": "light"
     },
     "output_type": "display_data"
    },
    {
     "data": {
      "image/png": "[encoded data removed]",
      "text/plain": [
       "<Figure size 576x576 with 2 Axes>"
      ]
     },
     "metadata": {
      "needs_background": "light"
     },
     "output_type": "display_data"
    }
   ],
   "source": [
    "plot_two_speaker_topics(['Thomas S. Monson','Russell M. Nelson'],'Monson_Nelson_most_common_talks.png')\n",
    "plot_two_speaker_topics(['Jeffrey R. Holland','Dieter F. Uchtdorf'],'Holland_Uchtdorf_most_common_talks.png')"
   ]
  },
  {
   "cell_type": "markdown",
   "metadata": {},
   "source": [
    "# look at some individual talks and the topics for that talk"
   ]
  },
  {
   "cell_type": "code",
   "execution_count": 30,
   "metadata": {},
   "outputs": [],
   "source": [
    "# dict(new.Speaker.value_counts())"
   ]
  },
  {
   "cell_type": "code",
   "execution_count": 28,
   "metadata": {
    "scrolled": true
   },
   "outputs": [
    {
     "data": {
      "text/html": [
       "<div>\n",
       "<style scoped>\n",
       "    .dataframe tbody tr th:only-of-type {\n",
       "        vertical-align: middle;\n",
       "    }\n",
       "\n",
       "    .dataframe tbody tr th {\n",
       "        vertical-align: top;\n",
       "    }\n",
       "\n",
       "    .dataframe thead th {\n",
       "        text-align: right;\n",
       "    }\n",
       "</style>\n",
       "<table border=\"1\" class=\"dataframe\">\n",
       "  <thead>\n",
       "    <tr style=\"text-align: right;\">\n",
       "      <th></th>\n",
       "      <th>Year</th>\n",
       "      <th>Month_letter</th>\n",
       "      <th>Month</th>\n",
       "      <th>Title</th>\n",
       "      <th>topic_lists</th>\n",
       "    </tr>\n",
       "  </thead>\n",
       "  <tbody>\n",
       "    <tr>\n",
       "      <th>3411</th>\n",
       "      <td>2018</td>\n",
       "      <td>A</td>\n",
       "      <td>4</td>\n",
       "      <td>The Elders Quorum</td>\n",
       "      <td>[Melchizedek Priesthood, ministering, priestho...</td>\n",
       "    </tr>\n",
       "    <tr>\n",
       "      <th>3439</th>\n",
       "      <td>2018</td>\n",
       "      <td>O</td>\n",
       "      <td>10</td>\n",
       "      <td>Firm and Steadfast in the Faith of Christ</td>\n",
       "      <td>[Jesus Christ, faith, adversity, conversion, c...</td>\n",
       "    </tr>\n",
       "    <tr>\n",
       "      <th>3355</th>\n",
       "      <td>2017</td>\n",
       "      <td>A</td>\n",
       "      <td>4</td>\n",
       "      <td>The Voice of Warning</td>\n",
       "      <td>[Jesus Christ, prophets, parenthood, standards...</td>\n",
       "    </tr>\n",
       "    <tr>\n",
       "      <th>3370</th>\n",
       "      <td>2017</td>\n",
       "      <td>O</td>\n",
       "      <td>10</td>\n",
       "      <td>The Living Bread Which Came Down from Heaven</td>\n",
       "      <td>[Jesus Christ, holiness, repentance, service, ...</td>\n",
       "    </tr>\n",
       "    <tr>\n",
       "      <th>3279</th>\n",
       "      <td>2016</td>\n",
       "      <td>A</td>\n",
       "      <td>4</td>\n",
       "      <td>Fathers</td>\n",
       "      <td>[discipline, example, education, marriage, lov...</td>\n",
       "    </tr>\n",
       "    <tr>\n",
       "      <th>3302</th>\n",
       "      <td>2016</td>\n",
       "      <td>O</td>\n",
       "      <td>10</td>\n",
       "      <td>“Abide in My Love”</td>\n",
       "      <td>[Jesus Christ, divine nature, repentance, obed...</td>\n",
       "    </tr>\n",
       "    <tr>\n",
       "      <th>3190</th>\n",
       "      <td>2015</td>\n",
       "      <td>A</td>\n",
       "      <td>4</td>\n",
       "      <td>Why Marriage, Why Family</td>\n",
       "      <td>[Creation, Fall, Atonement, marriage, plan of ...</td>\n",
       "    </tr>\n",
       "    <tr>\n",
       "      <th>3246</th>\n",
       "      <td>2015</td>\n",
       "      <td>O</td>\n",
       "      <td>10</td>\n",
       "      <td>Why the Church</td>\n",
       "      <td>[Church organization, priesthood, Church meeti...</td>\n",
       "    </tr>\n",
       "    <tr>\n",
       "      <th>3135</th>\n",
       "      <td>2014</td>\n",
       "      <td>A</td>\n",
       "      <td>4</td>\n",
       "      <td>The Resurrection of Jesus Christ</td>\n",
       "      <td>[Jesus Christ, justice, Resurrection, Atonement]</td>\n",
       "    </tr>\n",
       "    <tr>\n",
       "      <th>3146</th>\n",
       "      <td>2014</td>\n",
       "      <td>O</td>\n",
       "      <td>10</td>\n",
       "      <td>Free Forever, to Act for Themselves</td>\n",
       "      <td>[Jesus Christ, mercy, truth, justice, repentan...</td>\n",
       "    </tr>\n",
       "    <tr>\n",
       "      <th>3060</th>\n",
       "      <td>2013</td>\n",
       "      <td>A</td>\n",
       "      <td>4</td>\n",
       "      <td>Redemption</td>\n",
       "      <td>[Jesus Christ, repentance, Atonement, service]</td>\n",
       "    </tr>\n",
       "    <tr>\n",
       "      <th>3074</th>\n",
       "      <td>2013</td>\n",
       "      <td>O</td>\n",
       "      <td>10</td>\n",
       "      <td>The Moral Force of Women</td>\n",
       "      <td>[women, morality, motherhood, family]</td>\n",
       "    </tr>\n",
       "    <tr>\n",
       "      <th>2977</th>\n",
       "      <td>2012</td>\n",
       "      <td>A</td>\n",
       "      <td>4</td>\n",
       "      <td>The Doctrine of Christ</td>\n",
       "      <td>[Jesus Christ, prophets, Church doctrine]</td>\n",
       "    </tr>\n",
       "    <tr>\n",
       "      <th>3005</th>\n",
       "      <td>2012</td>\n",
       "      <td>O</td>\n",
       "      <td>10</td>\n",
       "      <td>Brethren, We Have Work to Do</td>\n",
       "      <td>[education, priesthood, marriage, work]</td>\n",
       "    </tr>\n",
       "    <tr>\n",
       "      <th>2909</th>\n",
       "      <td>2011</td>\n",
       "      <td>A</td>\n",
       "      <td>4</td>\n",
       "      <td>“As Many as I Love, I Rebuke and Chasten”</td>\n",
       "      <td>[repentance, obedience]</td>\n",
       "    </tr>\n",
       "    <tr>\n",
       "      <th>2932</th>\n",
       "      <td>2011</td>\n",
       "      <td>O</td>\n",
       "      <td>10</td>\n",
       "      <td>The Divine Gift of Repentance</td>\n",
       "      <td>[repentance, Atonement]</td>\n",
       "    </tr>\n",
       "    <tr>\n",
       "      <th>2818</th>\n",
       "      <td>2010</td>\n",
       "      <td>A</td>\n",
       "      <td>4</td>\n",
       "      <td>The Blessing of Scripture</td>\n",
       "      <td>[Jesus Christ, truth, scriptures, Bible]</td>\n",
       "    </tr>\n",
       "    <tr>\n",
       "      <th>2852</th>\n",
       "      <td>2010</td>\n",
       "      <td>O</td>\n",
       "      <td>10</td>\n",
       "      <td>Reflections on a Consecrated Life</td>\n",
       "      <td>[consecration, morality, integrity, work, serv...</td>\n",
       "    </tr>\n",
       "    <tr>\n",
       "      <th>2742</th>\n",
       "      <td>2009</td>\n",
       "      <td>A</td>\n",
       "      <td>4</td>\n",
       "      <td>The Power of Covenants</td>\n",
       "      <td>[faith, Holy Ghost, obedience, adversity, cove...</td>\n",
       "    </tr>\n",
       "    <tr>\n",
       "      <th>2804</th>\n",
       "      <td>2009</td>\n",
       "      <td>O</td>\n",
       "      <td>10</td>\n",
       "      <td>Moral Discipline</td>\n",
       "      <td>[morality, honesty, virtue, agency]</td>\n",
       "    </tr>\n",
       "    <tr>\n",
       "      <th>2684</th>\n",
       "      <td>2008</td>\n",
       "      <td>A</td>\n",
       "      <td>4</td>\n",
       "      <td>Born Again</td>\n",
       "      <td>[Jesus Christ, repentance, conversion, plan of...</td>\n",
       "    </tr>\n",
       "    <tr>\n",
       "      <th>2712</th>\n",
       "      <td>2008</td>\n",
       "      <td>O</td>\n",
       "      <td>10</td>\n",
       "      <td>Come to Zion</td>\n",
       "      <td>[charity, worthiness, unity, Zion]</td>\n",
       "    </tr>\n",
       "    <tr>\n",
       "      <th>2559</th>\n",
       "      <td>2006</td>\n",
       "      <td>O</td>\n",
       "      <td>10</td>\n",
       "      <td>Let Us Be Men</td>\n",
       "      <td>[Jesus Christ, priesthood, honesty, responsibi...</td>\n",
       "    </tr>\n",
       "    <tr>\n",
       "      <th>2373</th>\n",
       "      <td>2004</td>\n",
       "      <td>A</td>\n",
       "      <td>4</td>\n",
       "      <td>When Thou Art Converted</td>\n",
       "      <td>[prayer, repentance, scripture study, conversion]</td>\n",
       "    </tr>\n",
       "    <tr>\n",
       "      <th>2284</th>\n",
       "      <td>2002</td>\n",
       "      <td>O</td>\n",
       "      <td>10</td>\n",
       "      <td>That They May Be One in Us</td>\n",
       "      <td>[Holy Ghost, Atonement, humility, unity]</td>\n",
       "    </tr>\n",
       "    <tr>\n",
       "      <th>2120</th>\n",
       "      <td>2000</td>\n",
       "      <td>O</td>\n",
       "      <td>10</td>\n",
       "      <td>The Redemption of the Dead and the Testimony o...</td>\n",
       "      <td>[Jesus Christ, family history, ordinances, pri...</td>\n",
       "    </tr>\n",
       "    <tr>\n",
       "      <th>1988</th>\n",
       "      <td>1998</td>\n",
       "      <td>O</td>\n",
       "      <td>10</td>\n",
       "      <td>The Priesthood Quorum</td>\n",
       "      <td>[Jesus Christ, curriculum, example, fellowship...</td>\n",
       "    </tr>\n",
       "    <tr>\n",
       "      <th>1612</th>\n",
       "      <td>1993</td>\n",
       "      <td>A</td>\n",
       "      <td>4</td>\n",
       "      <td>I Know in Whom I Have Trusted</td>\n",
       "      <td>[testimony, commitment, service]</td>\n",
       "    </tr>\n",
       "  </tbody>\n",
       "</table>\n",
       "</div>"
      ],
      "text/plain": [
       "      Year Month_letter  Month  \\\n",
       "3411  2018            A      4   \n",
       "3439  2018            O     10   \n",
       "3355  2017            A      4   \n",
       "3370  2017            O     10   \n",
       "3279  2016            A      4   \n",
       "3302  2016            O     10   \n",
       "3190  2015            A      4   \n",
       "3246  2015            O     10   \n",
       "3135  2014            A      4   \n",
       "3146  2014            O     10   \n",
       "3060  2013            A      4   \n",
       "3074  2013            O     10   \n",
       "2977  2012            A      4   \n",
       "3005  2012            O     10   \n",
       "2909  2011            A      4   \n",
       "2932  2011            O     10   \n",
       "2818  2010            A      4   \n",
       "2852  2010            O     10   \n",
       "2742  2009            A      4   \n",
       "2804  2009            O     10   \n",
       "2684  2008            A      4   \n",
       "2712  2008            O     10   \n",
       "2559  2006            O     10   \n",
       "2373  2004            A      4   \n",
       "2284  2002            O     10   \n",
       "2120  2000            O     10   \n",
       "1988  1998            O     10   \n",
       "1612  1993            A      4   \n",
       "\n",
       "                                                  Title  \\\n",
       "3411                                  The Elders Quorum   \n",
       "3439          Firm and Steadfast in the Faith of Christ   \n",
       "3355                               The Voice of Warning   \n",
       "3370       The Living Bread Which Came Down from Heaven   \n",
       "3279                                            Fathers   \n",
       "3302                                 “Abide in My Love”   \n",
       "3190                           Why Marriage, Why Family   \n",
       "3246                                     Why the Church   \n",
       "3135                   The Resurrection of Jesus Christ   \n",
       "3146                Free Forever, to Act for Themselves   \n",
       "3060                                         Redemption   \n",
       "3074                           The Moral Force of Women   \n",
       "2977                             The Doctrine of Christ   \n",
       "3005                       Brethren, We Have Work to Do   \n",
       "2909          “As Many as I Love, I Rebuke and Chasten”   \n",
       "2932                      The Divine Gift of Repentance   \n",
       "2818                          The Blessing of Scripture   \n",
       "2852                  Reflections on a Consecrated Life   \n",
       "2742                             The Power of Covenants   \n",
       "2804                                   Moral Discipline   \n",
       "2684                                         Born Again   \n",
       "2712                                       Come to Zion   \n",
       "2559                                      Let Us Be Men   \n",
       "2373                            When Thou Art Converted   \n",
       "2284                         That They May Be One in Us   \n",
       "2120  The Redemption of the Dead and the Testimony o...   \n",
       "1988                              The Priesthood Quorum   \n",
       "1612                      I Know in Whom I Have Trusted   \n",
       "\n",
       "                                            topic_lists  \n",
       "3411  [Melchizedek Priesthood, ministering, priestho...  \n",
       "3439  [Jesus Christ, faith, adversity, conversion, c...  \n",
       "3355  [Jesus Christ, prophets, parenthood, standards...  \n",
       "3370  [Jesus Christ, holiness, repentance, service, ...  \n",
       "3279  [discipline, example, education, marriage, lov...  \n",
       "3302  [Jesus Christ, divine nature, repentance, obed...  \n",
       "3190  [Creation, Fall, Atonement, marriage, plan of ...  \n",
       "3246  [Church organization, priesthood, Church meeti...  \n",
       "3135   [Jesus Christ, justice, Resurrection, Atonement]  \n",
       "3146  [Jesus Christ, mercy, truth, justice, repentan...  \n",
       "3060     [Jesus Christ, repentance, Atonement, service]  \n",
       "3074              [women, morality, motherhood, family]  \n",
       "2977          [Jesus Christ, prophets, Church doctrine]  \n",
       "3005            [education, priesthood, marriage, work]  \n",
       "2909                            [repentance, obedience]  \n",
       "2932                            [repentance, Atonement]  \n",
       "2818           [Jesus Christ, truth, scriptures, Bible]  \n",
       "2852  [consecration, morality, integrity, work, serv...  \n",
       "2742  [faith, Holy Ghost, obedience, adversity, cove...  \n",
       "2804                [morality, honesty, virtue, agency]  \n",
       "2684  [Jesus Christ, repentance, conversion, plan of...  \n",
       "2712                 [charity, worthiness, unity, Zion]  \n",
       "2559  [Jesus Christ, priesthood, honesty, responsibi...  \n",
       "2373  [prayer, repentance, scripture study, conversion]  \n",
       "2284           [Holy Ghost, Atonement, humility, unity]  \n",
       "2120  [Jesus Christ, family history, ordinances, pri...  \n",
       "1988  [Jesus Christ, curriculum, example, fellowship...  \n",
       "1612                   [testimony, commitment, service]  "
      ]
     },
     "execution_count": 28,
     "metadata": {},
     "output_type": "execute_result"
    }
   ],
   "source": [
    "# I recently just listened to a talk by Elder Christofferson called \"when thou art converted\"\n",
    "keep = ['Year','Month_letter','Month','Title','topic_lists']\n",
    "new.loc[(new.Speaker == 'D. Todd Christofferson')][keep].sort_values(by=['Year','Month']\n",
    "                                                                     ,ascending=[False,True],inplace=False)"
   ]
  },
  {
   "cell_type": "code",
   "execution_count": 29,
   "metadata": {},
   "outputs": [
    {
     "name": "stdout",
     "output_type": "stream",
     "text": [
      "Year                                                         2004\n",
      "Month_letter                                                    A\n",
      "Speaker                                    D. Todd Christofferson\n",
      "Title                                     When Thou Art Converted\n",
      "File                                                data/6953.txt\n",
      "Kicker          Plead with God in the name of Christ to write ...\n",
      "Month                                                           4\n",
      "Unnamed: 0                        When Thou Art Converted:2004/04\n",
      "topic_lists     [prayer, repentance, scripture study, conversion]\n",
      "Name: 2373, dtype: object\n",
      "\n",
      "\n",
      " Plead with God in the name of Christ to write the gospel in your mind that you may have understanding and in your heart that you may love to do His will.\n"
     ]
    },
    {
     "data": {
      "text/plain": [
       "['prayer', 'repentance', 'scripture study', 'conversion']"
      ]
     },
     "execution_count": 29,
     "metadata": {},
     "output_type": "execute_result"
    }
   ],
   "source": [
    "index_ = 2373\n",
    "print(new.iloc[index_,:9])\n",
    "# print('\\n\\n',new.iloc[index_,:9].Title)\n",
    "print('\\n\\n',new.iloc[index_,:9].Kicker)\n",
    "new.iloc[index_,:9].topic_lists"
   ]
  },
  {
   "cell_type": "code",
   "execution_count": null,
   "metadata": {},
   "outputs": [],
   "source": []
  }
 ],
 "metadata": {
  "kernelspec": {
   "display_name": "Python 3",
   "language": "python",
   "name": "python3"
  },
  "language_info": {
   "codemirror_mode": {
    "name": "ipython",
    "version": 3
   },
   "file_extension": ".py",
   "mimetype": "text/x-python",
   "name": "python",
   "nbconvert_exporter": "python",
   "pygments_lexer": "ipython3",
   "version": "3.7.3"
  }
 },
 "nbformat": 4,
 "nbformat_minor": 2
}
