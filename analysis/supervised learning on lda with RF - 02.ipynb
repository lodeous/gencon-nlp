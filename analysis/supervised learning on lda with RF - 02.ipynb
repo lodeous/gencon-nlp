{
 "cells": [
  {
   "cell_type": "code",
   "execution_count": 1,
   "metadata": {},
   "outputs": [],
   "source": [
    "import pandas as pd\n",
    "import numpy as np\n",
    "import os,glob\n",
    "from matplotlib import pyplot as plt"
   ]
  },
  {
   "cell_type": "markdown",
   "metadata": {},
   "source": [
    "Joey's code but modified to do any number of topics"
   ]
  },
  {
   "cell_type": "markdown",
   "metadata": {},
   "source": [
    "# run a random forest on these words and see how well it can identify labels"
   ]
  },
  {
   "cell_type": "code",
   "execution_count": 2,
   "metadata": {},
   "outputs": [],
   "source": [
    "from sklearn.ensemble import RandomForestClassifier\n",
    "from sklearn.model_selection import train_test_split"
   ]
  },
  {
   "cell_type": "code",
   "execution_count": 4,
   "metadata": {},
   "outputs": [
    {
     "data": {
      "text/plain": [
       "['third_encoded_LDA_with_topics.json']"
      ]
     },
     "execution_count": 4,
     "metadata": {},
     "output_type": "execute_result"
    }
   ],
   "source": [
    "glob.glob('third*.json')"
   ]
  },
  {
   "cell_type": "code",
   "execution_count": 5,
   "metadata": {},
   "outputs": [],
   "source": [
    "df = pd.read_json('third_encoded_LDA_with_topics.json')"
   ]
  },
  {
   "cell_type": "code",
   "execution_count": 6,
   "metadata": {},
   "outputs": [
    {
     "data": {
      "text/plain": [
       "13272"
      ]
     },
     "execution_count": 6,
     "metadata": {},
     "output_type": "execute_result"
    }
   ],
   "source": [
    "#get the feature columns: those that start with 'key_word:'\n",
    "feat = [x for x in df.columns if x[:9] == 'key_word:']\n",
    "len(feat)"
   ]
  },
  {
   "cell_type": "markdown",
   "metadata": {},
   "source": [
    "# choose two topics to classify"
   ]
  },
  {
   "cell_type": "code",
   "execution_count": 16,
   "metadata": {},
   "outputs": [
    {
     "name": "stdout",
     "output_type": "stream",
     "text": [
      "the topic hope has 42 talks associated\n",
      "the topic home has 77 talks associated\n",
      "the topic missionary work has 145 talks associated\n"
     ]
    }
   ],
   "source": [
    "topics = ['hope','home','missionary work']\n",
    "sizes = []\n",
    "for topic in topics:\n",
    "    temp = df.loc[df[topic] == 1].shape[0]\n",
    "    sizes.append(temp)\n",
    "    print('the topic',topic,'has',temp,'talks associated')"
   ]
  },
  {
   "cell_type": "code",
   "execution_count": 17,
   "metadata": {},
   "outputs": [
    {
     "name": "stdout",
     "output_type": "stream",
     "text": [
      "42 42 42 "
     ]
    }
   ],
   "source": [
    "# make an even dataset\n",
    "resized_dfs = []\n",
    "for topic in topics:\n",
    "    resized = df.loc[df[topic] == 1].iloc[:np.array(sizes).min()].copy()\n",
    "    resized_dfs.append(resized)\n",
    "    print(resized.shape[0], end=' ')\n",
    "new = pd.concat(resized_dfs)"
   ]
  },
  {
   "cell_type": "code",
   "execution_count": 18,
   "metadata": {},
   "outputs": [
    {
     "data": {
      "text/plain": [
       "(126, 13583)"
      ]
     },
     "execution_count": 18,
     "metadata": {},
     "output_type": "execute_result"
    }
   ],
   "source": [
    "new.shape"
   ]
  },
  {
   "cell_type": "markdown",
   "metadata": {},
   "source": [
    "# are there any instances that are both topics"
   ]
  },
  {
   "cell_type": "code",
   "execution_count": 19,
   "metadata": {},
   "outputs": [
    {
     "name": "stdout",
     "output_type": "stream",
     "text": [
      "5\n"
     ]
    }
   ],
   "source": [
    "topic_sum = sum(new[topic] for topic in topics)\n",
    "remove_ind = new[topic_sum > 1].index\n",
    "if len(remove_ind) > 0:\n",
    "    print(len(remove_ind))\n",
    "    new.drop(index=remove_ind,inplace=True)"
   ]
  },
  {
   "cell_type": "markdown",
   "metadata": {},
   "source": [
    "# reduce the feature to where only these talks have these words so there is a one in each column"
   ]
  },
  {
   "cell_type": "code",
   "execution_count": 20,
   "metadata": {},
   "outputs": [
    {
     "name": "stdout",
     "output_type": "stream",
     "text": [
      "3402\n"
     ]
    }
   ],
   "source": [
    "# get all the features \n",
    "b = new\n",
    "all_key_words = set()\n",
    "for i in range(b.shape[0]):\n",
    "    all_key_words = all_key_words.union(set(b.iloc[i]['words']))\n",
    "new_feat = ['key_word:' + word for word in all_key_words]\n",
    "print(len(new_feat))"
   ]
  },
  {
   "cell_type": "markdown",
   "metadata": {},
   "source": [
    "# PREDICT WHETHER THE TALK IS HOME"
   ]
  },
  {
   "cell_type": "markdown",
   "metadata": {},
   "source": [
    "# test train split"
   ]
  },
  {
   "cell_type": "code",
   "execution_count": 21,
   "metadata": {},
   "outputs": [
    {
     "name": "stdout",
     "output_type": "stream",
     "text": [
      "the target variable is: hope\n",
      "79     0\n",
      "107    0\n",
      "108    0\n",
      "114    0\n",
      "177    0\n",
      "      ..\n",
      "446    2\n",
      "451    2\n",
      "459    2\n",
      "461    2\n",
      "462    2\n",
      "Length: 121, dtype: int64\n",
      "X.shape (121, 3402)\n"
     ]
    }
   ],
   "source": [
    "X = new[new_feat].copy()\n",
    "print('the target variable is:',topics[0])\n",
    "y = sum(new[topic]*i for i, topic in enumerate(topics)) #new[topics[0]]\n",
    "print(y) #I think this is right\n",
    "print('X.shape',X.shape)"
   ]
  },
  {
   "cell_type": "code",
   "execution_count": 22,
   "metadata": {},
   "outputs": [],
   "source": [
    "X_train, X_test, y_train, y_test = train_test_split(X, y, test_size=0.1)\n"
   ]
  },
  {
   "cell_type": "code",
   "execution_count": 23,
   "metadata": {},
   "outputs": [
    {
     "name": "stdout",
     "output_type": "stream",
     "text": [
      "(108, 3402)\n",
      "(13, 3402)\n",
      "(108,)\n",
      "(13,)\n"
     ]
    }
   ],
   "source": [
    "for obj in [X_train, X_test, y_train, y_test]:\n",
    "    print(obj.shape)"
   ]
  },
  {
   "cell_type": "code",
   "execution_count": 55,
   "metadata": {},
   "outputs": [],
   "source": [
    "# X_train"
   ]
  },
  {
   "cell_type": "markdown",
   "metadata": {},
   "source": [
    "# RUN THE MODEL "
   ]
  },
  {
   "cell_type": "code",
   "execution_count": 60,
   "metadata": {},
   "outputs": [
    {
     "data": {
      "text/plain": [
       "1.0"
      ]
     },
     "execution_count": 60,
     "metadata": {},
     "output_type": "execute_result"
    }
   ],
   "source": [
    "clf = RandomForestClassifier(n_estimators=10\n",
    "                             ,n_jobs=-1\n",
    "                             ,oob_score=True)\n",
    "clf = clf.fit(X_train, y_train)\n",
    "clf.score(X_train, y_train)"
   ]
  },
  {
   "cell_type": "code",
   "execution_count": 25,
   "metadata": {},
   "outputs": [
    {
     "data": {
      "text/plain": [
       "0.8461538461538461"
      ]
     },
     "execution_count": 25,
     "metadata": {},
     "output_type": "execute_result"
    }
   ],
   "source": [
    "#mean accuracy\n",
    "clf.score(X_test,y_test)"
   ]
  },
  {
   "cell_type": "code",
   "execution_count": 26,
   "metadata": {
    "scrolled": true
   },
   "outputs": [
    {
     "data": {
      "text/plain": [
       "array([[0.9, 0. , 0.1],\n",
       "       [0.1, 0.6, 0.3],\n",
       "       [0.2, 0.6, 0.2],\n",
       "       [0.6, 0.4, 0. ],\n",
       "       [0.5, 0.3, 0.2],\n",
       "       [0.3, 0. , 0.7],\n",
       "       [0. , 0.3, 0.7],\n",
       "       [0.5, 0.5, 0. ],\n",
       "       [0.3, 0.6, 0.1],\n",
       "       [0.3, 0.3, 0.4],\n",
       "       [0.3, 0.2, 0.5],\n",
       "       [0.6, 0.3, 0.1],\n",
       "       [0.5, 0.4, 0.1]])"
      ]
     },
     "execution_count": 26,
     "metadata": {},
     "output_type": "execute_result"
    }
   ],
   "source": [
    "clf.predict_proba(X_test)"
   ]
  },
  {
   "cell_type": "markdown",
   "metadata": {},
   "source": [
    "# IF IT'S STRUGGLING THEN TRY NORMALIZING FEATURES"
   ]
  },
  {
   "cell_type": "code",
   "execution_count": 50,
   "metadata": {},
   "outputs": [
    {
     "data": {
      "text/plain": [
       "home            0.038786\n",
       "missionaries    0.029303\n",
       "christ          0.020646\n",
       "missionary      0.020048\n",
       "members         0.018442\n",
       "life            0.017892\n",
       "work            0.017500\n",
       "men             0.015140\n",
       "temple          0.013320\n",
       "families        0.012994\n",
       "family          0.012372\n",
       "god             0.012034\n",
       "make            0.011548\n",
       "words           0.011533\n",
       "hope            0.010915\n",
       "spirit          0.010834\n",
       "covenants       0.010519\n",
       "stake           0.010134\n",
       "including       0.009927\n",
       "jesus           0.009925\n",
       "dtype: float64"
      ]
     },
     "execution_count": 50,
     "metadata": {},
     "output_type": "execute_result"
    }
   ],
   "source": [
    "importances = pd.Series({new_feat[i].replace('key_word:',''):importance for i, importance in enumerate(clf.feature_importances_) if importance > 0})\n",
    "importances.sort_values(inplace=True, ascending=False)\n",
    "importances[:20]"
   ]
  },
  {
   "cell_type": "code",
   "execution_count": 59,
   "metadata": {},
   "outputs": [
    {
     "data": {
      "image/png": "[encoded data removed]",
      "text/plain": [
       "<Figure size 432x288 with 1 Axes>"
      ]
     },
     "metadata": {
      "needs_background": "light"
     },
     "output_type": "display_data"
    }
   ],
   "source": [
    "importances[19::-1].plot(kind='barh')\n",
    "plt.title(\"Random Forest Classifier importances\")\n",
    "plt.tight_layout()\n",
    "plt.savefig(\"rfc_importances.png\", dpi=128)\n",
    "plt.show()"
   ]
  },
  {
   "cell_type": "code",
   "execution_count": null,
   "metadata": {},
   "outputs": [],
   "source": []
  }
 ],
 "metadata": {
  "kernelspec": {
   "display_name": "Python 3",
   "language": "python",
   "name": "python3"
  },
  "language_info": {
   "codemirror_mode": {
    "name": "ipython",
    "version": 3
   },
   "file_extension": ".py",
   "mimetype": "text/x-python",
   "name": "python",
   "nbconvert_exporter": "python",
   "pygments_lexer": "ipython3",
   "version": "3.7.10"
  }
 },
 "nbformat": 4,
 "nbformat_minor": 2
}
