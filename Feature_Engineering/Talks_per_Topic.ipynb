{
 "cells": [
  {
   "cell_type": "code",
   "execution_count": 93,
   "metadata": {},
   "outputs": [],
   "source": [
    "import pandas as pd\n",
    "import json"
   ]
  },
  {
   "cell_type": "code",
   "execution_count": 28,
   "metadata": {},
   "outputs": [],
   "source": [
    "data = pd.read_csv(\"../merged_summary_topics.csv\")"
   ]
  },
  {
   "cell_type": "code",
   "execution_count": 29,
   "metadata": {},
   "outputs": [],
   "source": [
    "def get_talk_indices(filename, columns_to_drop=None):\n",
    "    \"\"\"Creates a DataFrame where the indices are the topics and there is one column named 'List of Talks' that contains\n",
    "    a list of the indices (in merged_summary_topics.csv) of the talk for each topic\"\"\"\n",
    "    data = pd.read_csv(filename)\n",
    "    if columns_to_drop == None:\n",
    "        columns_to_drop = ['Month_letter', 'Month', 'Kicker', 'Unnamed: 0']\n",
    "    data.drop(columns=columns_to_drop, inplace=True)\n",
    "    #for each one-hot encoded topic column, get a list of indices for each talk that has that topic tag\n",
    "    #a talk with have the topic tag if there is a 1.0 in its topic column\n",
    "    def talks_func(column):\n",
    "        return data[column == 1.0].index.tolist()\n",
    "    \n",
    "    #get a list of talks indices for each topic and make it a new dataframe\n",
    "    talks_per_topic = data.apply(talks_func, axis=0).to_frame()\n",
    "    #rename the column to clarify\n",
    "    talks_per_topic.rename(columns = {0:'List of Talks'}, inplace=True)\n",
    "    #get rid of the indices that are not topics\n",
    "    talks_per_topic.drop(index=['Year', 'Speaker', 'Title', 'File', 'topic_lists'], inplace=True)\n",
    "    return talks_per_topic "
   ]
  },
  {
   "cell_type": "code",
   "execution_count": 78,
   "metadata": {},
   "outputs": [],
   "source": [
    "def get_talks_from_indices(data, talk_indices_per_topic):\n",
    "    \"\"\"Creates a dictionary where keys are the topics and values are a dataframe of the talks with that topic tag\n",
    "    the dataframe consists of columns Year, Speaker, Title, File, Month and topic_lists\"\"\"\n",
    "    #columns to drop from the dataframes to be made\n",
    "    topic_list = [column for column in data.columns if column not in \n",
    "                  ['Year', 'Speaker', 'Title', 'File', 'Month', 'topic_lists']]\n",
    "\n",
    "    def indices_to_information(topics):\n",
    "        \"\"\"Takes in a list of all the topis, then creates a dictionary where the keys are topics\n",
    "        and the values are dataframes of the talks associated with those topics\n",
    "        each talk in the dataframe has the information Year, Speaker, Title, File, Month and topic_lists\"\"\"\n",
    "        talk_dfs = {topic: data.iloc[idx].drop(columns=topic_list) \n",
    "                    for topic in topics for idx in talk_indices_per_topic.loc[topic]}\n",
    "        return talk_dfs\n",
    "    \n",
    "    topics = talk_indices_per_topic.index\n",
    "    topic_dfs = indices_to_information(topics)\n",
    "    return topic_dfs\n",
    "        \n",
    "    "
   ]
  },
  {
   "cell_type": "code",
   "execution_count": 91,
   "metadata": {},
   "outputs": [],
   "source": [
    "talk_indices_per_topic = get_talk_indices(\"../merged_summary_topics.csv\")\n",
    "#talk_indices_per_topic.to_json('../talk_indices_per_topic.json')"
   ]
  },
  {
   "cell_type": "code",
   "execution_count": 97,
   "metadata": {
    "scrolled": true
   },
   "outputs": [],
   "source": [
    "topic_dictionary = get_talks_from_indices(data, talk_indices_per_topic)\n",
    "\n",
    "def create_topic_data(topic_dictionary):\n",
    "    \"\"\"Creates a csv file, topic_name.csv, containing the DataFrame of talks for each topic\n",
    "    saves in the Topic_Data directory\"\"\"\n",
    "    keys = topic_dictionary.keys()\n",
    "    file_names = [('_').join(key.split(' ')) for key in topic_dictionary.keys()]\n",
    "    for key, name in zip(keys, file_names):\n",
    "        topic_dictionary[key].to_csv(f\"../Topic_Data/{name}.csv\")\n"
   ]
  },
  {
   "cell_type": "code",
   "execution_count": 98,
   "metadata": {
    "scrolled": true
   },
   "outputs": [],
   "source": [
    "#create_topic_data(topic_dictionary)"
   ]
  }
 ],
 "metadata": {
  "kernelspec": {
   "display_name": "Python 3",
   "language": "python",
   "name": "python3"
  },
  "language_info": {
   "codemirror_mode": {
    "name": "ipython",
    "version": 3
   },
   "file_extension": ".py",
   "mimetype": "text/x-python",
   "name": "python",
   "nbconvert_exporter": "python",
   "pygments_lexer": "ipython3",
   "version": "3.8.5"
  }
 },
 "nbformat": 4,
 "nbformat_minor": 4
}
